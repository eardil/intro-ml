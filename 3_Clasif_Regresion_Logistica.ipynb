{
 "cells": [
  {
   "cell_type": "markdown",
   "metadata": {},
   "source": [
    "## Regresión Logística\n",
    "\n",
    "regresión lineal:\n",
    "$$ y = \\beta_0 + \\beta_1 x $$\n",
    "\n",
    "regresión logística:\n",
    "$$ log\\left(\\frac{y}{1-y}\\right) = \\beta_0 + \\beta_1 x $$\n",
    "\n",
    "¿Cuál es la función que se usa para estimar la probabilidad de y?"
   ]
  },
  {
   "cell_type": "code",
   "execution_count": null,
   "metadata": {},
   "outputs": [],
   "source": [
    "import matplotlib.pyplot as plt\n",
    "import pandas as pd\n",
    "import numpy as np"
   ]
  },
  {
   "cell_type": "code",
   "execution_count": null,
   "metadata": {},
   "outputs": [],
   "source": [
    "def logit(x, b0, b1):\n",
    "    return 1/(1 + np.exp(-(b0 + b1 * x)))"
   ]
  },
  {
   "cell_type": "code",
   "execution_count": null,
   "metadata": {},
   "outputs": [],
   "source": [
    "x = np.linspace(-2, 2, 100)\n",
    "\n",
    "plt.plot(x, logit(10,0.01,x), 'r', label='b0: ' + str(10) + ' , b1: ' + str(0.01))\n",
    "plt.plot(x, logit(3,0.01,x), 'b', label='b0: ' + str(3) + ' , b1: ' + str(0.01))\n",
    "plt.plot(x, logit(10,5,x), 'k', label='b0: ' + str(10) + ' , b1: ' + str(5))\n",
    "plt.plot(x, logit(-10,0.01,x), 'g', label='b0: ' + str(-3) + ' , b1: ' + str(0.01))\n",
    "plt.legend()\n",
    "plt.show()"
   ]
  },
  {
   "cell_type": "markdown",
   "metadata": {},
   "source": [
    "## No lineal"
   ]
  },
  {
   "cell_type": "code",
   "execution_count": null,
   "metadata": {
    "ExecuteTime": {
     "end_time": "2018-09-04T19:39:49.776161Z",
     "start_time": "2018-09-04T19:39:49.629243Z"
    }
   },
   "outputs": [],
   "source": [
    "np.random.seed(10)\n",
    "datos = pd.DataFrame({\n",
    "    'x1': np.random.normal(0, 5, size=200),\n",
    "    'x2': np.random.normal(size=200)\n",
    "}).assign(clase=lambda x: (x.x1 - x.x2 * 3 + x.x1).apply(lambda y: 1*(y + np.random.normal(0,1.2)**3 < 0)))\n",
    "\n",
    "plt.plot(datos[datos.clase == 0].x1, datos[datos.clase == 0].x2, 'rx')\n",
    "plt.plot(datos[datos.clase == 1].x1, datos[datos.clase == 1].x2, 'bo')\n",
    "plt.show()"
   ]
  },
  {
   "cell_type": "code",
   "execution_count": null,
   "metadata": {
    "ExecuteTime": {
     "end_time": "2018-09-04T19:39:49.788991Z",
     "start_time": "2018-09-04T19:39:49.777724Z"
    }
   },
   "outputs": [],
   "source": [
    "datos.clase.mean()"
   ]
  },
  {
   "cell_type": "code",
   "execution_count": null,
   "metadata": {
    "ExecuteTime": {
     "end_time": "2018-09-04T19:39:49.831792Z",
     "start_time": "2018-09-04T19:39:49.790615Z"
    }
   },
   "outputs": [],
   "source": [
    "from sklearn.linear_model import LogisticRegression\n",
    "\n",
    "lr = LogisticRegression()\n",
    "lr_fit = lr.fit(datos.drop('clase', axis=1), datos.clase)"
   ]
  },
  {
   "cell_type": "code",
   "execution_count": null,
   "metadata": {
    "ExecuteTime": {
     "end_time": "2018-09-04T19:39:50.053187Z",
     "start_time": "2018-09-04T19:39:49.833808Z"
    }
   },
   "outputs": [],
   "source": [
    "xx, yy = np.meshgrid(np.linspace(datos.x1.min(), datos.x1.max(), 50),\n",
    "                     np.linspace(datos.x2.min(), datos.x2.max(), 50))\n",
    "plt.xlim(xx.min(), xx.max())\n",
    "plt.ylim(yy.min(), yy.max())\n",
    "\n",
    "#plot background colors\n",
    "ax = plt.gca()\n",
    "Z = lr_fit.predict_proba(np.c_[xx.ravel(), yy.ravel()])[:, 1]\n",
    "Z = Z.reshape(xx.shape)\n",
    "cs = ax.contourf(xx, yy, Z, cmap='RdBu', alpha=.5)\n",
    "cs2 = ax.contour(xx, yy, Z, cmap='RdBu', alpha=.5)\n",
    "plt.clabel(cs2, fmt = '%2.1f', colors = 'k', fontsize=14)\n",
    "\n",
    "# Plot the points\n",
    "plt.plot(datos[datos.clase == 0].x1, datos[datos.clase == 0].x2, 'rx')\n",
    "plt.plot(datos[datos.clase == 1].x1, datos[datos.clase == 1].x2, 'bo')\n",
    "\n",
    "plt.show()"
   ]
  },
  {
   "cell_type": "markdown",
   "metadata": {},
   "source": [
    "### Cuadrado"
   ]
  },
  {
   "cell_type": "code",
   "execution_count": null,
   "metadata": {
    "ExecuteTime": {
     "end_time": "2018-09-04T19:39:50.078056Z",
     "start_time": "2018-09-04T19:39:50.059656Z"
    }
   },
   "outputs": [],
   "source": [
    "datos['x1x1'] = datos.x1 * datos.x1\n",
    "datos['x2x2'] = datos.x2 * datos.x2\n",
    "datos['x1x2'] = datos.x1 * datos.x2\n",
    "datos.head()"
   ]
  },
  {
   "cell_type": "code",
   "execution_count": null,
   "metadata": {
    "ExecuteTime": {
     "end_time": "2018-09-04T19:39:50.302612Z",
     "start_time": "2018-09-04T19:39:50.080186Z"
    }
   },
   "outputs": [],
   "source": [
    "lr = LogisticRegression()\n",
    "lr_fit = lr.fit(datos.drop('clase', axis=1), datos.clase)\n",
    "\n",
    "xx, yy = np.meshgrid(np.linspace(datos.x1.min(), datos.x1.max(), 50),\n",
    "                     np.linspace(datos.x2.min(), datos.x2.max(), 50))\n",
    "plt.xlim(xx.min(), xx.max())\n",
    "plt.ylim(yy.min(), yy.max())\n",
    "\n",
    "#plot background colors\n",
    "ax = plt.gca()\n",
    "Z = lr_fit.predict_proba(np.c_[xx.ravel(), yy.ravel(), \n",
    "                              xx.ravel() * xx.ravel(),\n",
    "                              yy.ravel() * yy.ravel(),\n",
    "                              xx.ravel() * yy.ravel()])[:, 1]\n",
    "Z = Z.reshape(xx.shape)\n",
    "cs = ax.contourf(xx, yy, Z, cmap='RdBu', alpha=.5)\n",
    "cs2 = ax.contour(xx, yy, Z, cmap='RdBu', alpha=.5)\n",
    "plt.clabel(cs2, fmt = '%2.1f', colors = 'k', fontsize=14)\n",
    "\n",
    "# Plot the points\n",
    "plt.plot(datos[datos.clase == 0].x1, datos[datos.clase == 0].x2, 'rx')\n",
    "plt.plot(datos[datos.clase == 1].x1, datos[datos.clase == 1].x2, 'bo')\n",
    "\n",
    "plt.show()"
   ]
  },
  {
   "cell_type": "markdown",
   "metadata": {},
   "source": [
    "### Cúbicos"
   ]
  },
  {
   "cell_type": "code",
   "execution_count": null,
   "metadata": {
    "ExecuteTime": {
     "end_time": "2018-09-04T19:39:50.325903Z",
     "start_time": "2018-09-04T19:39:50.305348Z"
    }
   },
   "outputs": [],
   "source": [
    "datos['x1x1x1'] = datos.x1 * datos.x1 * datos.x1\n",
    "datos['x2x2x2'] = datos.x2 * datos.x2 * datos.x2\n",
    "datos.head()"
   ]
  },
  {
   "cell_type": "code",
   "execution_count": null,
   "metadata": {
    "ExecuteTime": {
     "end_time": "2018-09-04T19:39:50.545530Z",
     "start_time": "2018-09-04T19:39:50.327381Z"
    }
   },
   "outputs": [],
   "source": [
    "lr = LogisticRegression()\n",
    "lr_fit = lr.fit(datos.drop('clase', axis=1), datos.clase)\n",
    "\n",
    "xx, yy = np.meshgrid(np.linspace(datos.x1.min(), datos.x1.max(), 50),\n",
    "                     np.linspace(datos.x2.min(), datos.x2.max(), 50))\n",
    "plt.xlim(xx.min(), xx.max())\n",
    "plt.ylim(yy.min(), yy.max())\n",
    "\n",
    "#plot background colors\n",
    "ax = plt.gca()\n",
    "Z = lr_fit.predict_proba(np.c_[xx.ravel(), yy.ravel(), \n",
    "                               xx.ravel() * xx.ravel(),\n",
    "                              yy.ravel() * yy.ravel(),\n",
    "                               xx.ravel() * yy.ravel(),\n",
    "                              xx.ravel() * xx.ravel() * xx.ravel(),\n",
    "                              yy.ravel() * yy.ravel() * yy.ravel()])[:, 1]\n",
    "Z = Z.reshape(xx.shape)\n",
    "cs = ax.contourf(xx, yy, Z, cmap='RdBu', alpha=.5)\n",
    "cs2 = ax.contour(xx, yy, Z, cmap='RdBu', alpha=.5)\n",
    "plt.clabel(cs2, fmt = '%2.1f', colors = 'k', fontsize=14)\n",
    "\n",
    "# Plot the points\n",
    "plt.plot(datos[datos.clase == 0].x1, datos[datos.clase == 0].x2, 'rx')\n",
    "plt.plot(datos[datos.clase == 1].x1, datos[datos.clase == 1].x2, 'bo')\n",
    "\n",
    "plt.show()"
   ]
  },
  {
   "cell_type": "code",
   "execution_count": null,
   "metadata": {},
   "outputs": [],
   "source": []
  },
  {
   "cell_type": "markdown",
   "metadata": {},
   "source": [
    "### Entrenamiento - Prueba"
   ]
  },
  {
   "cell_type": "code",
   "execution_count": null,
   "metadata": {
    "ExecuteTime": {
     "end_time": "2018-09-04T19:40:09.593979Z",
     "start_time": "2018-09-04T19:40:09.565833Z"
    }
   },
   "outputs": [],
   "source": [
    "datos.head()"
   ]
  },
  {
   "cell_type": "code",
   "execution_count": null,
   "metadata": {
    "ExecuteTime": {
     "end_time": "2018-09-04T19:40:09.599309Z",
     "start_time": "2018-09-04T19:40:09.596353Z"
    }
   },
   "outputs": [],
   "source": [
    "indices_ent = np.random.rand(datos.shape[0]) < 0.6\n",
    "indices_pru = ~indices_ent"
   ]
  },
  {
   "cell_type": "code",
   "execution_count": null,
   "metadata": {
    "ExecuteTime": {
     "end_time": "2018-09-04T19:40:09.645615Z",
     "start_time": "2018-09-04T19:40:09.601163Z"
    }
   },
   "outputs": [],
   "source": [
    "X_ent = datos.drop('clase', axis=1)[indices_ent]\n",
    "y_ent = datos.clase[indices_ent]\n",
    "\n",
    "X_pru = datos.drop('clase', axis=1)[indices_pru]\n",
    "y_pru = datos.clase[indices_pru]"
   ]
  },
  {
   "cell_type": "code",
   "execution_count": null,
   "metadata": {
    "ExecuteTime": {
     "end_time": "2018-09-04T19:40:09.661948Z",
     "start_time": "2018-09-04T19:40:09.647184Z"
    }
   },
   "outputs": [],
   "source": [
    "print(X_ent.shape)\n",
    "print(X_pru.shape)"
   ]
  },
  {
   "cell_type": "code",
   "execution_count": null,
   "metadata": {
    "ExecuteTime": {
     "end_time": "2018-09-04T19:40:09.676701Z",
     "start_time": "2018-09-04T19:40:09.665905Z"
    }
   },
   "outputs": [],
   "source": [
    "xx, yy = np.meshgrid(np.linspace(datos.x1.min(), datos.x1.max(), 50),\n",
    "                     np.linspace(datos.x2.min(), datos.x2.max(), 50))\n",
    "\n",
    "X_graf = np.c_[xx.ravel(), \n",
    "               yy.ravel(), \n",
    "               xx.ravel() * xx.ravel(),\n",
    "               yy.ravel() * yy.ravel(),\n",
    "               xx.ravel() * yy.ravel(),\n",
    "               xx.ravel() * xx.ravel() * xx.ravel(),\n",
    "               yy.ravel() * yy.ravel() * yy.ravel()]"
   ]
  },
  {
   "cell_type": "code",
   "execution_count": null,
   "metadata": {
    "ExecuteTime": {
     "end_time": "2018-09-04T19:40:09.695530Z",
     "start_time": "2018-09-04T19:40:09.678858Z"
    }
   },
   "outputs": [],
   "source": [
    "from sklearn.metrics import f1_score"
   ]
  },
  {
   "cell_type": "code",
   "execution_count": null,
   "metadata": {
    "ExecuteTime": {
     "end_time": "2018-09-04T19:40:09.836789Z",
     "start_time": "2018-09-04T19:40:09.697491Z"
    }
   },
   "outputs": [],
   "source": [
    "f1_ent = []\n",
    "f1_pru = []\n",
    "for num_vars in range(2, datos.shape[1]):\n",
    "    mod = lr.fit(X_ent.iloc[:,0:num_vars], y_ent)\n",
    "    f1_ent.append(f1_score(y_ent, mod.predict(X_ent.iloc[:,0:num_vars])))\n",
    "    f1_pru.append(f1_score(y_pru, mod.predict(X_pru.iloc[:,0:num_vars])))\n",
    "\n",
    "plt.plot(f1_ent, 'r', label='Entrenamiento')\n",
    "plt.plot(f1_pru, 'b', label='Prueba')\n",
    "plt.legend()\n",
    "plt.show()"
   ]
  }
 ],
 "metadata": {
  "kernelspec": {
   "display_name": "Python 3",
   "language": "python",
   "name": "python3"
  },
  "language_info": {
   "codemirror_mode": {
    "name": "ipython",
    "version": 3
   },
   "file_extension": ".py",
   "mimetype": "text/x-python",
   "name": "python",
   "nbconvert_exporter": "python",
   "pygments_lexer": "ipython3",
   "version": "3.6.0"
  }
 },
 "nbformat": 4,
 "nbformat_minor": 2
}
