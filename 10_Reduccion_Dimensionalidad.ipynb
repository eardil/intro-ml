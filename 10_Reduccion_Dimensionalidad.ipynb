{
 "cells": [
  {
   "cell_type": "code",
   "execution_count": null,
   "metadata": {
    "ExecuteTime": {
     "end_time": "2018-11-09T01:18:52.891885Z",
     "start_time": "2018-11-09T01:18:51.446239Z"
    }
   },
   "outputs": [],
   "source": [
    "import pandas as pd\n",
    "import numpy as np\n",
    "import matplotlib.pyplot as plt"
   ]
  },
  {
   "cell_type": "code",
   "execution_count": null,
   "metadata": {
    "ExecuteTime": {
     "end_time": "2018-11-09T01:12:24.732307Z",
     "start_time": "2018-11-09T01:12:24.722918Z"
    }
   },
   "outputs": [],
   "source": [
    "from sklearn.datasets import load_digits"
   ]
  },
  {
   "cell_type": "code",
   "execution_count": null,
   "metadata": {
    "ExecuteTime": {
     "end_time": "2018-11-09T01:12:28.771583Z",
     "start_time": "2018-11-09T01:12:28.556405Z"
    }
   },
   "outputs": [],
   "source": [
    "digits = load_digits()"
   ]
  },
  {
   "cell_type": "code",
   "execution_count": null,
   "metadata": {
    "ExecuteTime": {
     "end_time": "2018-11-09T01:19:02.523692Z",
     "start_time": "2018-11-09T01:19:01.934031Z"
    }
   },
   "outputs": [],
   "source": [
    "plt.imshow(digits.images[0])\n",
    "plt.show()"
   ]
  },
  {
   "cell_type": "code",
   "execution_count": null,
   "metadata": {
    "ExecuteTime": {
     "end_time": "2018-11-09T01:20:03.191906Z",
     "start_time": "2018-11-09T01:20:03.176063Z"
    }
   },
   "outputs": [],
   "source": [
    "digits.images[0]"
   ]
  },
  {
   "cell_type": "code",
   "execution_count": null,
   "metadata": {
    "ExecuteTime": {
     "end_time": "2018-11-09T01:20:00.728487Z",
     "start_time": "2018-11-09T01:20:00.711195Z"
    }
   },
   "outputs": [],
   "source": [
    "digits.data[0]"
   ]
  },
  {
   "cell_type": "code",
   "execution_count": null,
   "metadata": {
    "ExecuteTime": {
     "end_time": "2018-11-09T01:20:56.225104Z",
     "start_time": "2018-11-09T01:20:56.210662Z"
    }
   },
   "outputs": [],
   "source": [
    "digits.target"
   ]
  },
  {
   "cell_type": "code",
   "execution_count": null,
   "metadata": {
    "ExecuteTime": {
     "end_time": "2018-11-09T01:25:09.683432Z",
     "start_time": "2018-11-09T01:25:09.671108Z"
    }
   },
   "outputs": [],
   "source": [
    "digits.data.shape"
   ]
  },
  {
   "cell_type": "code",
   "execution_count": null,
   "metadata": {
    "ExecuteTime": {
     "end_time": "2018-11-09T01:25:43.220737Z",
     "start_time": "2018-11-09T01:25:43.216052Z"
    }
   },
   "outputs": [],
   "source": [
    "digits.target_names"
   ]
  },
  {
   "cell_type": "code",
   "execution_count": null,
   "metadata": {
    "ExecuteTime": {
     "end_time": "2018-11-09T01:50:42.769149Z",
     "start_time": "2018-11-09T01:50:42.757349Z"
    }
   },
   "outputs": [],
   "source": [
    "from sklearn.model_selection import train_test_split\n",
    "from sklearn.decomposition import PCA\n",
    "from sklearn.manifold import TSNE"
   ]
  },
  {
   "cell_type": "code",
   "execution_count": null,
   "metadata": {
    "ExecuteTime": {
     "end_time": "2018-11-09T01:51:10.044470Z",
     "start_time": "2018-11-09T01:51:10.009777Z"
    }
   },
   "outputs": [],
   "source": [
    "X_train, X_test, y_train, y_test = train_test_split(\n",
    "    digits.data, digits.target, test_size=0.2)"
   ]
  },
  {
   "cell_type": "code",
   "execution_count": null,
   "metadata": {
    "ExecuteTime": {
     "end_time": "2018-11-09T01:52:07.426320Z",
     "start_time": "2018-11-09T01:52:07.004974Z"
    }
   },
   "outputs": [],
   "source": [
    "pca = PCA(n_components=2)\n",
    "pca.fit(X_train)"
   ]
  },
  {
   "cell_type": "code",
   "execution_count": null,
   "metadata": {
    "ExecuteTime": {
     "end_time": "2018-11-09T01:52:48.321223Z",
     "start_time": "2018-11-09T01:52:48.308188Z"
    }
   },
   "outputs": [],
   "source": [
    "comps = pca.transform(X_train)"
   ]
  },
  {
   "cell_type": "code",
   "execution_count": null,
   "metadata": {
    "ExecuteTime": {
     "end_time": "2018-11-09T01:53:34.661449Z",
     "start_time": "2018-11-09T01:53:34.642125Z"
    }
   },
   "outputs": [],
   "source": [
    "comps.shape"
   ]
  },
  {
   "cell_type": "code",
   "execution_count": null,
   "metadata": {
    "ExecuteTime": {
     "end_time": "2018-11-09T01:55:33.102656Z",
     "start_time": "2018-11-09T01:55:33.092224Z"
    }
   },
   "outputs": [],
   "source": [
    "pca.components_.shape"
   ]
  },
  {
   "cell_type": "code",
   "execution_count": null,
   "metadata": {
    "ExecuteTime": {
     "end_time": "2018-11-09T01:56:40.327126Z",
     "start_time": "2018-11-09T01:56:40.310282Z"
    }
   },
   "outputs": [],
   "source": [
    "comps.shape"
   ]
  },
  {
   "cell_type": "code",
   "execution_count": null,
   "metadata": {
    "ExecuteTime": {
     "end_time": "2018-11-09T01:53:40.807276Z",
     "start_time": "2018-11-09T01:53:40.613483Z"
    }
   },
   "outputs": [],
   "source": [
    "plt.scatter(comps[:,0], comps[:,1])\n",
    "plt.show()"
   ]
  },
  {
   "cell_type": "code",
   "execution_count": null,
   "metadata": {
    "ExecuteTime": {
     "end_time": "2018-11-09T01:58:29.975464Z",
     "start_time": "2018-11-09T01:58:29.962134Z"
    }
   },
   "outputs": [],
   "source": [
    "tsne = TSNE(n_components=2)"
   ]
  },
  {
   "cell_type": "code",
   "execution_count": null,
   "metadata": {
    "ExecuteTime": {
     "end_time": "2018-11-09T02:00:11.654793Z",
     "start_time": "2018-11-09T02:00:03.555861Z"
    }
   },
   "outputs": [],
   "source": [
    "comp = tsne.fit_transform(X_train)\n",
    "plt.scatter(comp[:,0], comp[:,1])\n",
    "plt.show()"
   ]
  },
  {
   "cell_type": "code",
   "execution_count": null,
   "metadata": {},
   "outputs": [],
   "source": [
    "# Graficar y_train\n",
    "\n",
    "colors = ['b', 'g', 'r', 'c', 'm', 'y', 'k', 'plum', 'gray', 'lightcoral']\n",
    "\n",
    "plt.figure(figsize=(10,8))\n",
    "\n",
    "for i in range(10):\n",
    "    plt.scatter(comp[y_train == i,0], \n",
    "                comp[y_train == i,1],\n",
    "                color=colors[i],\n",
    "               label=i)\n",
    "plt.legend()\n",
    "plt.show()"
   ]
  },
  {
   "cell_type": "code",
   "execution_count": null,
   "metadata": {
    "ExecuteTime": {
     "end_time": "2018-11-09T02:08:13.897412Z",
     "start_time": "2018-11-09T02:08:13.894639Z"
    }
   },
   "outputs": [],
   "source": [
    "from sklearn.cluster import KMeans"
   ]
  },
  {
   "cell_type": "code",
   "execution_count": null,
   "metadata": {
    "ExecuteTime": {
     "end_time": "2018-11-09T02:08:43.195686Z",
     "start_time": "2018-11-09T02:08:42.922593Z"
    }
   },
   "outputs": [],
   "source": [
    "km = KMeans(n_clusters=10)\n",
    "\n",
    "km.fit(X_train)"
   ]
  },
  {
   "cell_type": "code",
   "execution_count": null,
   "metadata": {
    "ExecuteTime": {
     "end_time": "2018-11-09T02:15:14.463076Z",
     "start_time": "2018-11-09T02:15:14.100447Z"
    }
   },
   "outputs": [],
   "source": [
    "colors = ['b', 'g', 'r', 'c', 'm', 'y', 'k', 'plum', 'gray', 'lightcoral']\n",
    "\n",
    "plt.figure(figsize=(10,8))\n",
    "\n",
    "for i in range(10):\n",
    "    plt.scatter(comp[km.labels_ == i,0], \n",
    "                comp[km.labels_ == i,1],\n",
    "                color=colors[i],\n",
    "               label=i)\n",
    "plt.legend()\n",
    "plt.show()"
   ]
  }
 ],
 "metadata": {
  "kernelspec": {
   "display_name": "Python 3",
   "language": "python",
   "name": "python3"
  },
  "language_info": {
   "codemirror_mode": {
    "name": "ipython",
    "version": 3
   },
   "file_extension": ".py",
   "mimetype": "text/x-python",
   "name": "python",
   "nbconvert_exporter": "python",
   "pygments_lexer": "ipython3",
   "version": "3.6.0"
  },
  "toc": {
   "colors": {
    "hover_highlight": "#DAA520",
    "running_highlight": "#FF0000",
    "selected_highlight": "#FFD700"
   },
   "moveMenuLeft": true,
   "nav_menu": {
    "height": "12px",
    "width": "252px"
   },
   "navigate_menu": true,
   "number_sections": true,
   "sideBar": true,
   "threshold": 4,
   "toc_cell": false,
   "toc_section_display": "block",
   "toc_window_display": false,
   "widenNotebook": false
  }
 },
 "nbformat": 4,
 "nbformat_minor": 2
}
