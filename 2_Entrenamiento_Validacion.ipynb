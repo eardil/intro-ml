{
 "cells": [
  {
   "cell_type": "markdown",
   "metadata": {},
   "source": [
    "# Validación y elección de modelo\n",
    "\n",
    "¿No estamos satisfechos con el modelo? Hay 2 posibles puntos a mejorar:\n",
    "\n",
    "* La complejidad del modelo\n",
    "* El número de datos"
   ]
  },
  {
   "cell_type": "code",
   "execution_count": null,
   "metadata": {
    "ExecuteTime": {
     "end_time": "2018-09-13T22:09:36.929149Z",
     "start_time": "2018-09-13T22:09:36.586155Z"
    }
   },
   "outputs": [],
   "source": [
    "import matplotlib.pyplot as plt\n",
    "import pandas as pd\n",
    "import numpy as np"
   ]
  },
  {
   "cell_type": "markdown",
   "metadata": {},
   "source": [
    "## Cross-Validation\n",
    "\n",
    "Estamos usando demasiado el conjunto de prueba para tomar decisiones. Data Leaking!\n",
    "\n",
    "Queremos revisar si debemos subir o bajar la complejidad del modelo.\n",
    "\n",
    "Validación cruzada:\n",
    "* Entrenamiento-Validación-Prueba (holdout)\n",
    "* K-fold\n",
    "* Leave-one-out"
   ]
  },
  {
   "cell_type": "code",
   "execution_count": null,
   "metadata": {
    "ExecuteTime": {
     "end_time": "2018-09-13T22:09:36.937030Z",
     "start_time": "2018-09-13T22:09:36.933870Z"
    }
   },
   "outputs": [],
   "source": [
    "from sklearn.model_selection import train_test_split\n",
    "from sklearn.model_selection import cross_val_score"
   ]
  },
  {
   "cell_type": "markdown",
   "metadata": {},
   "source": [
    "## Datos falsos..."
   ]
  },
  {
   "cell_type": "code",
   "execution_count": null,
   "metadata": {
    "ExecuteTime": {
     "end_time": "2018-09-13T22:09:38.348047Z",
     "start_time": "2018-09-13T22:09:38.341818Z"
    }
   },
   "outputs": [],
   "source": [
    "def make_data(N, err=1.0, rseed=1):\n",
    "    # randomly sample the data\n",
    "    rng = np.random.RandomState(rseed)\n",
    "    X = rng.rand(N, 1) ** 2\n",
    "    y = 10 - 1. / (X.ravel() + 0.1)\n",
    "    if err > 0:\n",
    "        y += err * rng.randn(N)\n",
    "    return X, y"
   ]
  },
  {
   "cell_type": "code",
   "execution_count": null,
   "metadata": {
    "ExecuteTime": {
     "end_time": "2018-09-13T22:09:38.444267Z",
     "start_time": "2018-09-13T22:09:38.352114Z"
    }
   },
   "outputs": [],
   "source": [
    "X2, y2 = make_data(40)\n",
    "plt.scatter(X2.ravel(), y2);\n",
    "plt.show()"
   ]
  },
  {
   "cell_type": "code",
   "execution_count": null,
   "metadata": {
    "ExecuteTime": {
     "end_time": "2018-09-13T22:09:38.473542Z",
     "start_time": "2018-09-13T22:09:38.446086Z"
    }
   },
   "outputs": [],
   "source": [
    "from sklearn.preprocessing import PolynomialFeatures\n",
    "from sklearn.linear_model import LinearRegression\n",
    "from sklearn.pipeline import make_pipeline\n",
    "\n",
    "def PolynomialRegression(degree=2, **kwargs):\n",
    "    return make_pipeline(PolynomialFeatures(degree),\n",
    "                         LinearRegression(**kwargs))"
   ]
  },
  {
   "cell_type": "code",
   "execution_count": null,
   "metadata": {
    "ExecuteTime": {
     "end_time": "2018-09-13T22:09:38.610612Z",
     "start_time": "2018-09-13T22:09:38.475385Z"
    }
   },
   "outputs": [],
   "source": [
    "%matplotlib inline\n",
    "import matplotlib.pyplot as plt\n",
    "\n",
    "X2_test = np.linspace(-0.1, 1.1, 500)[:, None]\n",
    "\n",
    "plt.scatter(X2.ravel(), y2, color='black', alpha=0.3)\n",
    "axis = plt.axis()\n",
    "for degree in [1, 5, 15]:\n",
    "    y_test = PolynomialRegression(degree).fit(X2, y2).predict(X2_test)\n",
    "    plt.plot(X2_test.ravel(), y_test, label='grado={0}'.format(degree))\n",
    "plt.xlim(-0.1, 1.0)\n",
    "plt.ylim(-2, 13)\n",
    "plt.legend(loc='best')\n",
    "plt.show()"
   ]
  },
  {
   "cell_type": "code",
   "execution_count": null,
   "metadata": {
    "ExecuteTime": {
     "end_time": "2018-09-13T22:09:38.897391Z",
     "start_time": "2018-09-13T22:09:38.612407Z"
    }
   },
   "outputs": [],
   "source": [
    "from sklearn.model_selection import validation_curve\n",
    "\n",
    "max_grados = 20\n",
    "\n",
    "train_scores, val_scores = validation_curve(\n",
    "    PolynomialRegression(), X2, y2, param_name=\"polynomialfeatures__degree\", param_range=range(max_grados),\n",
    "    cv=5, scoring=\"neg_mean_squared_error\")\n",
    "\n",
    "plt.plot(range(max_grados), train_scores.mean(axis=1), 'g', label='score entrenamiento')\n",
    "plt.plot(range(max_grados), val_scores.mean(axis=1), 'r', label='score validacion')\n",
    "plt.ylim([-12, 0])\n",
    "plt.xlim([0,max_grados])\n",
    "plt.legend()\n",
    "plt.show()"
   ]
  },
  {
   "cell_type": "code",
   "execution_count": null,
   "metadata": {
    "ExecuteTime": {
     "end_time": "2018-09-13T22:09:38.902619Z",
     "start_time": "2018-09-13T22:09:38.899232Z"
    }
   },
   "outputs": [],
   "source": [
    "print(\"El valor máximo es de:\", np.max(val_scores.mean(axis=1)), \", alcanzado en el grado: \", np.argmax(val_scores.mean(axis=1)))"
   ]
  },
  {
   "cell_type": "markdown",
   "metadata": {},
   "source": [
    "## Curva de aprendizaje\n",
    "\n",
    "Tal vez para el modelo que queremos necesitamos más datos."
   ]
  },
  {
   "cell_type": "code",
   "execution_count": null,
   "metadata": {
    "ExecuteTime": {
     "end_time": "2018-09-13T22:09:40.039193Z",
     "start_time": "2018-09-13T22:09:38.904366Z"
    }
   },
   "outputs": [],
   "source": [
    "from sklearn.learning_curve import learning_curve\n",
    "\n",
    "fig, ax = plt.subplots(1, 3, figsize=(16, 6))\n",
    "fig.subplots_adjust(left=0.0625, right=0.95, wspace=0.1)\n",
    "\n",
    "for i, degree in enumerate([2, 5, 9]):\n",
    "    N, train_lc, val_lc = learning_curve(PolynomialRegression(degree),\n",
    "                                         X2, y2, cv=7,\n",
    "                                         train_sizes=np.linspace(0.3, 1, 25),\n",
    "                                        scoring='neg_mean_squared_error')\n",
    "\n",
    "    ax[i].plot(N, np.mean(train_lc, 1), color='blue', label='score ent')\n",
    "    ax[i].plot(N, np.mean(val_lc, 1), color='red', label='score val')\n",
    "    ax[i].hlines(np.mean([train_lc[-1], val_lc[-1]]), N[0], N[-1],\n",
    "                 color='gray', linestyle='dashed')\n",
    "\n",
    "    ax[i].set_ylim(-10, 0)\n",
    "    ax[i].set_xlim(N[0], N[-1])\n",
    "    ax[i].set_xlabel('indiv entrenamiento')\n",
    "    ax[i].set_ylabel('score')\n",
    "    ax[i].set_title('grado = {0}'.format(degree), size=14)\n",
    "    ax[i].legend(loc='best')\n",
    "plt.show()"
   ]
  },
  {
   "cell_type": "markdown",
   "metadata": {},
   "source": [
    "## Grid Search"
   ]
  },
  {
   "cell_type": "code",
   "execution_count": null,
   "metadata": {
    "ExecuteTime": {
     "end_time": "2018-09-13T22:09:40.044869Z",
     "start_time": "2018-09-13T22:09:40.040837Z"
    }
   },
   "outputs": [],
   "source": [
    "from sklearn.model_selection import GridSearchCV\n",
    "from sklearn.ensemble import RandomForestRegressor"
   ]
  },
  {
   "cell_type": "code",
   "execution_count": null,
   "metadata": {
    "ExecuteTime": {
     "end_time": "2018-09-13T22:09:49.625832Z",
     "start_time": "2018-09-13T22:09:49.613016Z"
    }
   },
   "outputs": [],
   "source": [
    "grid_parametros = {\n",
    "    'n_estimators': [50, 100, 200],\n",
    "    'min_samples_split': [2, 5, 10]\n",
    "}\n",
    "\n",
    "rf = RandomForestRegressor()\n",
    "\n",
    "rf_cv = GridSearchCV(rf, grid_parametros)"
   ]
  },
  {
   "cell_type": "code",
   "execution_count": null,
   "metadata": {
    "ExecuteTime": {
     "end_time": "2018-09-13T22:09:54.420691Z",
     "start_time": "2018-09-13T22:09:52.123699Z"
    }
   },
   "outputs": [],
   "source": [
    "rf_cv.fit(X2, y2)"
   ]
  },
  {
   "cell_type": "code",
   "execution_count": null,
   "metadata": {
    "ExecuteTime": {
     "end_time": "2018-09-13T22:10:10.271623Z",
     "start_time": "2018-09-13T22:10:10.260368Z"
    }
   },
   "outputs": [],
   "source": [
    "rf_cv.best_params_"
   ]
  }
 ],
 "metadata": {
  "kernelspec": {
   "display_name": "Python 3",
   "language": "python",
   "name": "python3"
  },
  "language_info": {
   "codemirror_mode": {
    "name": "ipython",
    "version": 3
   },
   "file_extension": ".py",
   "mimetype": "text/x-python",
   "name": "python",
   "nbconvert_exporter": "python",
   "pygments_lexer": "ipython3",
   "version": "3.6.0"
  }
 },
 "nbformat": 4,
 "nbformat_minor": 2
}
