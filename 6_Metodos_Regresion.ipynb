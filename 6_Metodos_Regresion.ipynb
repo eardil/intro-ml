{
 "cells": [
  {
   "cell_type": "markdown",
   "metadata": {},
   "source": [
    "# Regresión\n",
    "\n",
    "Datos de [renta de bicis](http://archive.ics.uci.edu/ml/datasets/Bike+Sharing+Dataset)"
   ]
  },
  {
   "cell_type": "code",
   "execution_count": null,
   "metadata": {
    "ExecuteTime": {
     "end_time": "2018-09-26T00:45:25.121004Z",
     "start_time": "2018-09-26T00:45:20.151646Z"
    }
   },
   "outputs": [],
   "source": [
    "import pandas as pd\n",
    "import numpy as np\n",
    "import matplotlib.pyplot as plt"
   ]
  },
  {
   "cell_type": "code",
   "execution_count": null,
   "metadata": {
    "ExecuteTime": {
     "end_time": "2018-09-26T00:45:31.730700Z",
     "start_time": "2018-09-26T00:45:31.418440Z"
    }
   },
   "outputs": [],
   "source": [
    "bici_hora = pd.read_csv('datos/hour.csv')"
   ]
  },
  {
   "cell_type": "code",
   "execution_count": null,
   "metadata": {
    "ExecuteTime": {
     "end_time": "2018-09-26T00:45:34.863396Z",
     "start_time": "2018-09-26T00:45:34.847578Z"
    }
   },
   "outputs": [],
   "source": [
    "bici_hora.shape"
   ]
  },
  {
   "cell_type": "code",
   "execution_count": null,
   "metadata": {
    "ExecuteTime": {
     "end_time": "2018-09-26T00:45:40.452225Z",
     "start_time": "2018-09-26T00:45:40.299882Z"
    }
   },
   "outputs": [],
   "source": [
    "bici_hora.head()"
   ]
  },
  {
   "cell_type": "code",
   "execution_count": null,
   "metadata": {
    "ExecuteTime": {
     "end_time": "2018-09-26T00:46:40.016665Z",
     "start_time": "2018-09-26T00:46:39.967533Z"
    }
   },
   "outputs": [],
   "source": [
    "bici_pred = bici_hora.drop(['instant', 'dteday', 'casual', 'registered'], axis=1)"
   ]
  },
  {
   "cell_type": "code",
   "execution_count": null,
   "metadata": {
    "ExecuteTime": {
     "end_time": "2018-09-26T01:00:10.963739Z",
     "start_time": "2018-09-26T01:00:07.803751Z"
    }
   },
   "outputs": [],
   "source": [
    "from sklearn.model_selection import GridSearchCV, train_test_split\n",
    "\n",
    "from sklearn.linear_model import LinearRegression\n",
    "from sklearn.neighbors import KNeighborsRegressor, RadiusNeighborsRegressor\n",
    "from sklearn.ensemble import RandomForestRegressor\n",
    "from sklearn.ensemble import BaggingRegressor"
   ]
  },
  {
   "cell_type": "code",
   "execution_count": null,
   "metadata": {
    "ExecuteTime": {
     "end_time": "2018-09-26T01:02:12.843035Z",
     "start_time": "2018-09-26T01:02:12.685315Z"
    }
   },
   "outputs": [],
   "source": [
    "X_train, X_test, y_train, y_test = train_test_split(\n",
    "    bici_pred.drop('cnt', axis=1), # X\n",
    "    bici_pred.cnt,  # y\n",
    "    test_size=0.2, # porcentaje que será prueba\n",
    "    random_state=42) # para fijar el aleatorio (reproducibilidad)"
   ]
  },
  {
   "cell_type": "code",
   "execution_count": null,
   "metadata": {
    "ExecuteTime": {
     "end_time": "2018-09-26T01:09:40.120985Z",
     "start_time": "2018-09-26T01:09:35.082950Z"
    }
   },
   "outputs": [],
   "source": [
    "knn_grid = {\n",
    "    'n_neighbors': list(range(1, 10))\n",
    "}\n",
    "\n",
    "knn_cv = GridSearchCV(KNeighborsRegressor(), knn_grid,\n",
    "                     scoring='neg_mean_squared_error')\n",
    "\n",
    "knn_cv.fit(X_train, y_train)"
   ]
  },
  {
   "cell_type": "code",
   "execution_count": null,
   "metadata": {
    "ExecuteTime": {
     "end_time": "2018-09-26T01:10:03.120027Z",
     "start_time": "2018-09-26T01:10:03.102653Z"
    }
   },
   "outputs": [],
   "source": [
    "knn_cv.best_params_"
   ]
  },
  {
   "cell_type": "code",
   "execution_count": null,
   "metadata": {
    "ExecuteTime": {
     "end_time": "2018-09-26T01:10:05.433736Z",
     "start_time": "2018-09-26T01:10:05.419178Z"
    }
   },
   "outputs": [],
   "source": [
    "knn_cv.best_score_"
   ]
  },
  {
   "cell_type": "code",
   "execution_count": null,
   "metadata": {
    "ExecuteTime": {
     "end_time": "2018-09-26T01:18:17.060229Z",
     "start_time": "2018-09-26T01:18:16.789043Z"
    }
   },
   "outputs": [],
   "source": [
    "plt.scatter(knn_cv.predict(X_test), y_test, alpha=0.2)\n",
    "plt.xlabel('Pred')\n",
    "plt.ylabel('Real')\n",
    "plt.plot([0,y_test.max()], [0,y_test.max()], 'r')\n",
    "plt.show()"
   ]
  },
  {
   "cell_type": "markdown",
   "metadata": {},
   "source": [
    "## Autoregresión"
   ]
  },
  {
   "cell_type": "code",
   "execution_count": null,
   "metadata": {
    "ExecuteTime": {
     "end_time": "2018-09-25T20:03:56.854707Z",
     "start_time": "2018-09-25T20:03:56.839941Z"
    }
   },
   "outputs": [],
   "source": [
    "bici_diario = pd.read_csv('datos/day.csv')"
   ]
  },
  {
   "cell_type": "code",
   "execution_count": null,
   "metadata": {
    "ExecuteTime": {
     "end_time": "2018-09-25T20:03:57.070122Z",
     "start_time": "2018-09-25T20:03:56.859276Z"
    }
   },
   "outputs": [],
   "source": [
    "bici_diario.cnt.plot()\n",
    "plt.show()"
   ]
  },
  {
   "cell_type": "code",
   "execution_count": null,
   "metadata": {
    "ExecuteTime": {
     "end_time": "2018-09-25T20:03:57.214134Z",
     "start_time": "2018-09-25T20:03:57.071785Z"
    }
   },
   "outputs": [],
   "source": [
    "from pandas.plotting import lag_plot\n",
    "\n",
    "lag_plot(bici_diario.cnt)\n",
    "plt.show()"
   ]
  },
  {
   "cell_type": "code",
   "execution_count": null,
   "metadata": {
    "ExecuteTime": {
     "end_time": "2018-09-25T20:03:57.354838Z",
     "start_time": "2018-09-25T20:03:57.216806Z"
    }
   },
   "outputs": [],
   "source": [
    "lag_plot(bici_diario.cnt, lag=2)\n",
    "plt.show()"
   ]
  },
  {
   "cell_type": "code",
   "execution_count": null,
   "metadata": {
    "ExecuteTime": {
     "end_time": "2018-09-25T20:03:57.471751Z",
     "start_time": "2018-09-25T20:03:57.356627Z"
    }
   },
   "outputs": [],
   "source": [
    "lag_plot(bici_diario.cnt, lag=15)\n",
    "plt.show()"
   ]
  },
  {
   "cell_type": "code",
   "execution_count": null,
   "metadata": {
    "ExecuteTime": {
     "end_time": "2018-09-25T20:03:57.623555Z",
     "start_time": "2018-09-25T20:03:57.473024Z"
    }
   },
   "outputs": [],
   "source": [
    "from pandas.plotting import autocorrelation_plot\n",
    "\n",
    "autocorrelation_plot(bici_diario.cnt)\n",
    "plt.show()"
   ]
  },
  {
   "cell_type": "code",
   "execution_count": null,
   "metadata": {
    "ExecuteTime": {
     "end_time": "2018-09-25T20:04:23.875423Z",
     "start_time": "2018-09-25T20:04:23.794793Z"
    }
   },
   "outputs": [],
   "source": [
    "from statsmodels.tsa.ar_model import AR"
   ]
  },
  {
   "cell_type": "code",
   "execution_count": null,
   "metadata": {
    "ExecuteTime": {
     "end_time": "2018-09-25T20:04:54.189024Z",
     "start_time": "2018-09-25T20:04:54.174904Z"
    }
   },
   "outputs": [],
   "source": [
    "ts = AR(bici_diario.cnt.values, bici_diario.dteday.values)"
   ]
  },
  {
   "cell_type": "code",
   "execution_count": null,
   "metadata": {
    "ExecuteTime": {
     "end_time": "2018-09-25T20:09:16.632758Z",
     "start_time": "2018-09-25T20:09:16.621157Z"
    }
   },
   "outputs": [],
   "source": []
  },
  {
   "cell_type": "code",
   "execution_count": null,
   "metadata": {
    "ExecuteTime": {
     "end_time": "2018-09-25T20:13:57.531002Z",
     "start_time": "2018-09-25T20:13:57.247561Z"
    }
   },
   "outputs": [],
   "source": [
    "plt.figure(figsize=(20,8))\n",
    "\n",
    "max_lag = 100\n",
    "\n",
    "ts_bici = ts.fit(maxlag=max_lag)\n",
    "\n",
    "bici_diario.cnt.plot()\n",
    "plt.plot(range(max_lag, bici_diario.cnt.shape[0]), ts_bici.predict(), 'r')\n",
    "plt.show()"
   ]
  }
 ],
 "metadata": {
  "kernelspec": {
   "display_name": "Python 3",
   "language": "python",
   "name": "python3"
  },
  "language_info": {
   "codemirror_mode": {
    "name": "ipython",
    "version": 3
   },
   "file_extension": ".py",
   "mimetype": "text/x-python",
   "name": "python",
   "nbconvert_exporter": "python",
   "pygments_lexer": "ipython3",
   "version": "3.6.0"
  },
  "toc": {
   "colors": {
    "hover_highlight": "#DAA520",
    "running_highlight": "#FF0000",
    "selected_highlight": "#FFD700"
   },
   "moveMenuLeft": true,
   "nav_menu": {
    "height": "49px",
    "width": "252px"
   },
   "navigate_menu": true,
   "number_sections": true,
   "sideBar": true,
   "threshold": 4,
   "toc_cell": false,
   "toc_section_display": "block",
   "toc_window_display": false,
   "widenNotebook": false
  }
 },
 "nbformat": 4,
 "nbformat_minor": 2
}
