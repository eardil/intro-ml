{
 "cells": [
  {
   "cell_type": "code",
   "execution_count": null,
   "metadata": {
    "ExecuteTime": {
     "end_time": "2018-10-09T18:14:26.112514Z",
     "start_time": "2018-10-09T18:14:25.368588Z"
    }
   },
   "outputs": [],
   "source": [
    "import pandas as pd\n",
    "import numpy as np\n",
    "import matplotlib.pyplot as plt"
   ]
  },
  {
   "cell_type": "code",
   "execution_count": null,
   "metadata": {
    "ExecuteTime": {
     "end_time": "2018-10-09T18:17:38.168499Z",
     "start_time": "2018-10-09T18:17:38.049648Z"
    }
   },
   "outputs": [],
   "source": [
    "from sklearn.datasets.samples_generator import make_blobs\n",
    "X, y_true = make_blobs(n_samples=300, centers=4,\n",
    "                       cluster_std=2, random_state=42)\n",
    "plt.scatter(X[:, 0], X[:, 1], s=50)\n",
    "plt.show()"
   ]
  },
  {
   "cell_type": "markdown",
   "metadata": {},
   "source": [
    "## Cluster jerárquico\n",
    "\n",
    "Dos criterios principales:\n",
    "\n",
    "* Distancia (L2, L1, taxista, etc)\n",
    "* Criterio de unión\n",
    "    - Mínimo de distancias\n",
    "    - Máximo de distancias\n",
    "    - Distancia al promedio / minimizar varianza (Ward)"
   ]
  },
  {
   "cell_type": "code",
   "execution_count": null,
   "metadata": {
    "ExecuteTime": {
     "end_time": "2018-10-09T19:11:54.708316Z",
     "start_time": "2018-10-09T19:11:54.555069Z"
    }
   },
   "outputs": [],
   "source": [
    "from scipy.cluster.hierarchy import dendrogram, linkage"
   ]
  },
  {
   "cell_type": "code",
   "execution_count": null,
   "metadata": {
    "ExecuteTime": {
     "end_time": "2018-10-09T19:14:32.379043Z",
     "start_time": "2018-10-09T19:14:30.174912Z"
    }
   },
   "outputs": [],
   "source": [
    "Z = linkage(X, 'ward')\n",
    "plt.figure(figsize=(20, 20))\n",
    "plt.title('Hierarchical Clustering Dendrogram')\n",
    "plt.xlabel('Iris Dataset')\n",
    "plt.ylabel('distance')\n",
    "dendrogram(\n",
    "    Z,\n",
    "    orientation='right',\n",
    "    leaf_rotation=0,\n",
    "    leaf_font_size=8.,\n",
    ")\n",
    "plt.show()"
   ]
  },
  {
   "cell_type": "markdown",
   "metadata": {},
   "source": [
    "## K-Means"
   ]
  },
  {
   "cell_type": "code",
   "execution_count": null,
   "metadata": {
    "ExecuteTime": {
     "end_time": "2018-10-09T18:34:00.929191Z",
     "start_time": "2018-10-09T18:34:00.798417Z"
    }
   },
   "outputs": [],
   "source": [
    "k = 4\n",
    "\n",
    "np.random.seed(10)\n",
    "medias = np.random.rand(k, 2)*20 - 10\n",
    "          \n",
    "plt.scatter(X[:, 0], X[:, 1], s=50)\n",
    "plt.scatter(medias[:,0], medias[:,1], color='red')\n",
    "plt.show()"
   ]
  },
  {
   "cell_type": "code",
   "execution_count": null,
   "metadata": {
    "ExecuteTime": {
     "end_time": "2018-10-09T18:22:12.372819Z",
     "start_time": "2018-10-09T18:22:12.365689Z"
    }
   },
   "outputs": [],
   "source": [
    "def dist(a, b, ax=1):\n",
    "    return np.linalg.norm(a - b, axis=ax)"
   ]
  },
  {
   "cell_type": "code",
   "execution_count": null,
   "metadata": {
    "ExecuteTime": {
     "end_time": "2018-10-09T18:34:10.981946Z",
     "start_time": "2018-10-09T18:34:10.756489Z"
    }
   },
   "outputs": [],
   "source": [
    "clusters = np.zeros(len(X))\n",
    "for i in range(len(X)):\n",
    "    distances = dist(X[i], medias)\n",
    "    cluster = np.argmin(distances)\n",
    "    clusters[i] = cluster\n",
    "    \n",
    "for i in range(k):\n",
    "    points = [X[j] for j in range(len(X)) if clusters[j] == i]\n",
    "    medias[i] = np.mean(points, axis=0)\n",
    "\n",
    "plt.scatter(X[:, 0], X[:, 1], s=50)\n",
    "plt.scatter(medias[:,0], medias[:,1], color='red')\n",
    "plt.show()"
   ]
  },
  {
   "cell_type": "markdown",
   "metadata": {},
   "source": [
    "## Modelos de Mezclas"
   ]
  },
  {
   "cell_type": "code",
   "execution_count": null,
   "metadata": {
    "ExecuteTime": {
     "end_time": "2018-10-09T19:22:08.669344Z",
     "start_time": "2018-10-09T19:22:08.565525Z"
    }
   },
   "outputs": [],
   "source": [
    "from sklearn.mixture import GaussianMixture\n",
    "gmm = GaussianMixture(n_components=4).fit(X)\n",
    "labels = gmm.predict(X)"
   ]
  },
  {
   "cell_type": "code",
   "execution_count": null,
   "metadata": {
    "ExecuteTime": {
     "end_time": "2018-10-09T19:22:54.682490Z",
     "start_time": "2018-10-09T19:22:54.634050Z"
    }
   },
   "outputs": [],
   "source": [
    "from matplotlib.patches import Ellipse\n",
    "\n",
    "def draw_ellipse(position, covariance, ax=None, **kwargs):\n",
    "    \"\"\"Draw an ellipse with a given position and covariance\"\"\"\n",
    "    ax = ax or plt.gca()\n",
    "    \n",
    "    # Convert covariance to principal axes\n",
    "    if covariance.shape == (2, 2):\n",
    "        U, s, Vt = np.linalg.svd(covariance)\n",
    "        angle = np.degrees(np.arctan2(U[1, 0], U[0, 0]))\n",
    "        width, height = 2 * np.sqrt(s)\n",
    "    else:\n",
    "        angle = 0\n",
    "        width, height = 2 * np.sqrt(covariance)\n",
    "    \n",
    "    # Draw the Ellipse\n",
    "    for nsig in range(1, 4):\n",
    "        ax.add_patch(Ellipse(position, nsig * width, nsig * height,\n",
    "                             angle, **kwargs))\n",
    "        \n",
    "def plot_gmm(gmm, X, label=True, ax=None):\n",
    "    ax = ax or plt.gca()\n",
    "    labels = gmm.fit(X).predict(X)\n",
    "    if label:\n",
    "        ax.scatter(X[:, 0], X[:, 1], c=labels, s=40, cmap='viridis', zorder=2)\n",
    "    else:\n",
    "        ax.scatter(X[:, 0], X[:, 1], s=40, zorder=2)\n",
    "    ax.axis('equal')\n",
    "    \n",
    "    w_factor = 0.2 / gmm.weights_.max()\n",
    "    for pos, covar, w in zip(gmm.means_, gmm.covariances_, gmm.weights_):\n",
    "        draw_ellipse(pos, covar, alpha=w * w_factor)"
   ]
  },
  {
   "cell_type": "code",
   "execution_count": null,
   "metadata": {
    "ExecuteTime": {
     "end_time": "2018-10-09T19:22:57.419519Z",
     "start_time": "2018-10-09T19:22:57.105058Z"
    }
   },
   "outputs": [],
   "source": [
    "gmm = GaussianMixture(n_components=4, random_state=42)\n",
    "plot_gmm(gmm, X)"
   ]
  },
  {
   "cell_type": "code",
   "execution_count": null,
   "metadata": {
    "ExecuteTime": {
     "end_time": "2018-10-09T19:24:02.072696Z",
     "start_time": "2018-10-09T19:24:01.933935Z"
    }
   },
   "outputs": [],
   "source": [
    "np.random.seed(45)\n",
    "X_stretched = np.dot(X, np.random.randn(2, 2))\n",
    "plt.scatter(X_stretched[:, 0], X_stretched[:, 1], s=50)\n",
    "plt.show()"
   ]
  },
  {
   "cell_type": "code",
   "execution_count": null,
   "metadata": {
    "ExecuteTime": {
     "end_time": "2018-10-09T19:30:37.471957Z",
     "start_time": "2018-10-09T19:30:37.436203Z"
    }
   },
   "outputs": [],
   "source": [
    "from sklearn.cluster import KMeans\n",
    "\n",
    "km = KMeans(n_clusters=4, random_state=1)\n",
    "km.fit(X_stretched)"
   ]
  },
  {
   "cell_type": "code",
   "execution_count": null,
   "metadata": {
    "ExecuteTime": {
     "end_time": "2018-10-09T19:30:41.098145Z",
     "start_time": "2018-10-09T19:30:40.934972Z"
    }
   },
   "outputs": [],
   "source": [
    "clusters_km = km.predict(X_stretched)\n",
    "\n",
    "colores = ['r', 'g', 'b', 'k']\n",
    "\n",
    "for cc in np.unique(clusters_km):\n",
    "    plt.scatter(X_stretched[clusters_km == cc, 0], X_stretched[clusters_km == cc, 1], color=colores[cc])"
   ]
  },
  {
   "cell_type": "code",
   "execution_count": null,
   "metadata": {
    "ExecuteTime": {
     "end_time": "2018-10-09T19:24:12.835704Z",
     "start_time": "2018-10-09T19:24:12.644626Z"
    }
   },
   "outputs": [],
   "source": [
    "gmm = GaussianMixture(n_components=4, random_state=42)\n",
    "plot_gmm(gmm, X_stretched)"
   ]
  },
  {
   "cell_type": "markdown",
   "metadata": {},
   "source": [
    "## Número de clusters\n",
    "\n",
    "En estos algoritmos, el número de grupos se debe definir previamente. Es necesario tener una forma de elegir."
   ]
  },
  {
   "cell_type": "code",
   "execution_count": null,
   "metadata": {
    "ExecuteTime": {
     "end_time": "2018-10-09T20:02:36.001378Z",
     "start_time": "2018-10-09T20:02:35.666522Z"
    }
   },
   "outputs": [],
   "source": [
    "var = []\n",
    "for k in range(1, 10):\n",
    "    km = KMeans(n_clusters=k, random_state=1)\n",
    "    km.fit(X)\n",
    "    var.append(km.inertia_)\n",
    "    \n",
    "plt.plot(range(1, 10), var)\n",
    "plt.show()"
   ]
  },
  {
   "cell_type": "code",
   "execution_count": null,
   "metadata": {
    "ExecuteTime": {
     "end_time": "2018-10-09T20:02:50.707783Z",
     "start_time": "2018-10-09T20:02:50.699936Z"
    }
   },
   "outputs": [],
   "source": [
    "print(km.inertia_, km.score(X))"
   ]
  }
 ],
 "metadata": {
  "kernelspec": {
   "display_name": "Python 3",
   "language": "python",
   "name": "python3"
  },
  "language_info": {
   "codemirror_mode": {
    "name": "ipython",
    "version": 3
   },
   "file_extension": ".py",
   "mimetype": "text/x-python",
   "name": "python",
   "nbconvert_exporter": "python",
   "pygments_lexer": "ipython3",
   "version": "3.6.0"
  }
 },
 "nbformat": 4,
 "nbformat_minor": 2
}
