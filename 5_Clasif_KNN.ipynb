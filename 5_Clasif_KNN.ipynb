{
 "cells": [
  {
   "cell_type": "code",
   "execution_count": null,
   "metadata": {
    "ExecuteTime": {
     "end_time": "2018-09-13T21:38:23.457140Z",
     "start_time": "2018-09-13T21:38:23.450240Z"
    }
   },
   "outputs": [],
   "source": [
    "import numpy as np\n",
    "import pandas as pd\n",
    "import matplotlib.pyplot as plt"
   ]
  },
  {
   "cell_type": "code",
   "execution_count": null,
   "metadata": {
    "ExecuteTime": {
     "end_time": "2018-09-13T21:38:23.680752Z",
     "start_time": "2018-09-13T21:38:23.462041Z"
    }
   },
   "outputs": [],
   "source": [
    "np.random.seed(7)\n",
    "\n",
    "train = pd.DataFrame({\n",
    "    'x1': np.concatenate([np.random.normal(0, 10, size=100), np.random.normal(0, 10, size=100)]),\n",
    "    'x2': np.concatenate([np.random.normal(3, 3, size=100), np.random.normal(-3, 3, size=100)]),\n",
    "    'clase': [0 for i in range(100)] + [1 for i in range(100)]\n",
    "})\n",
    "\n",
    "test = pd.DataFrame({\n",
    "    'x1': np.concatenate([np.random.normal(0, 3, size=25), np.random.normal(0, 3, size=25)]),\n",
    "    'x2': np.concatenate([np.random.normal(3, 3, size=25), np.random.normal(-3, 3, size=25)]),\n",
    "    'clase': [0 for i in range(25)] + [1 for i in range(25)]\n",
    "})\n",
    "\n",
    "plt.plot(train[train.clase == 0].x1, train[train.clase == 0].x2, 'rx')\n",
    "plt.plot(train[train.clase == 1].x1, train[train.clase == 1].x2, 'bo')\n",
    "plt.show()"
   ]
  },
  {
   "cell_type": "code",
   "execution_count": null,
   "metadata": {
    "ExecuteTime": {
     "end_time": "2018-09-13T21:38:23.684462Z",
     "start_time": "2018-09-13T21:38:23.682371Z"
    }
   },
   "outputs": [],
   "source": [
    "from sklearn.neighbors import KNeighborsClassifier"
   ]
  },
  {
   "cell_type": "code",
   "execution_count": null,
   "metadata": {
    "ExecuteTime": {
     "end_time": "2018-09-13T21:38:23.707346Z",
     "start_time": "2018-09-13T21:38:23.688407Z"
    }
   },
   "outputs": [],
   "source": [
    "knn = KNeighborsClassifier(5)"
   ]
  },
  {
   "cell_type": "code",
   "execution_count": null,
   "metadata": {
    "ExecuteTime": {
     "end_time": "2018-09-13T21:38:23.731953Z",
     "start_time": "2018-09-13T21:38:23.709194Z"
    }
   },
   "outputs": [],
   "source": [
    "knn.fit(train.drop('clase', axis=1), train.clase)"
   ]
  },
  {
   "cell_type": "code",
   "execution_count": null,
   "metadata": {
    "ExecuteTime": {
     "end_time": "2018-09-13T21:38:23.758413Z",
     "start_time": "2018-09-13T21:38:23.733276Z"
    }
   },
   "outputs": [],
   "source": [
    "from sklearn.metrics import confusion_matrix"
   ]
  },
  {
   "cell_type": "code",
   "execution_count": null,
   "metadata": {
    "ExecuteTime": {
     "end_time": "2018-09-13T21:39:11.123684Z",
     "start_time": "2018-09-13T21:39:11.117640Z"
    }
   },
   "outputs": [],
   "source": [
    "confusion_matrix(test.clase, knn.predict(test.drop('clase', axis=1)))"
   ]
  },
  {
   "cell_type": "code",
   "execution_count": null,
   "metadata": {
    "ExecuteTime": {
     "end_time": "2018-09-13T21:38:23.818489Z",
     "start_time": "2018-09-13T21:38:23.791776Z"
    }
   },
   "outputs": [],
   "source": [
    "X_train = (train.drop('clase', axis=1) - train.drop('clase', axis=1).mean()) / (train.drop('clase', axis=1).std())\n",
    "X_test = (test.drop('clase', axis=1) - test.drop('clase', axis=1).mean()) / (test.drop('clase', axis=1).std())\n",
    "\n",
    "y_train = train.clase\n",
    "y_test = test.clase"
   ]
  },
  {
   "cell_type": "code",
   "execution_count": null,
   "metadata": {
    "ExecuteTime": {
     "end_time": "2018-09-13T21:38:23.962771Z",
     "start_time": "2018-09-13T21:38:23.820026Z"
    }
   },
   "outputs": [],
   "source": [
    "plt.plot(X_train[y_train == 0].x1, X_train[y_train == 0].x2, 'rx')\n",
    "plt.plot(X_train[y_train == 1].x1, X_train[y_train == 1].x2, 'bo')"
   ]
  },
  {
   "cell_type": "code",
   "execution_count": null,
   "metadata": {
    "ExecuteTime": {
     "end_time": "2018-09-13T21:38:23.970053Z",
     "start_time": "2018-09-13T21:38:23.965979Z"
    }
   },
   "outputs": [],
   "source": [
    "knn.fit(X_train, y_train)"
   ]
  },
  {
   "cell_type": "code",
   "execution_count": null,
   "metadata": {
    "ExecuteTime": {
     "end_time": "2018-09-13T21:38:41.025112Z",
     "start_time": "2018-09-13T21:38:41.007055Z"
    }
   },
   "outputs": [],
   "source": [
    "confusion_matrix(y_test, knn.predict(X_test))"
   ]
  },
  {
   "cell_type": "markdown",
   "metadata": {},
   "source": [
    "**Ejercicio**: ¿Cuántos vecinos es mejor usar para este problema?"
   ]
  }
 ],
 "metadata": {
  "kernelspec": {
   "display_name": "Python 3",
   "language": "python",
   "name": "python3"
  },
  "language_info": {
   "codemirror_mode": {
    "name": "ipython",
    "version": 3
   },
   "file_extension": ".py",
   "mimetype": "text/x-python",
   "name": "python",
   "nbconvert_exporter": "python",
   "pygments_lexer": "ipython3",
   "version": "3.6.0"
  }
 },
 "nbformat": 4,
 "nbformat_minor": 2
}
