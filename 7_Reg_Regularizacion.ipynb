{
 "cells": [
  {
   "cell_type": "code",
   "execution_count": null,
   "metadata": {
    "ExecuteTime": {
     "end_time": "2018-09-21T00:34:01.254082Z",
     "start_time": "2018-09-21T00:34:00.146628Z"
    }
   },
   "outputs": [],
   "source": [
    "import numpy as np\n",
    "import pandas as pd\n",
    "import matplotlib.pyplot as plt"
   ]
  },
  {
   "cell_type": "markdown",
   "metadata": {},
   "source": [
    "## Maldición de la dimensionalidad\n",
    "\n",
    "$$ Area_{n-esfera} = \\frac{\\pi^{\\frac{n}{2}}}{\\Gamma(\\frac{n}{2} + 1)} R^2 $$"
   ]
  },
  {
   "cell_type": "code",
   "execution_count": null,
   "metadata": {
    "ExecuteTime": {
     "end_time": "2018-09-21T00:34:03.131317Z",
     "start_time": "2018-09-21T00:34:03.041485Z"
    }
   },
   "outputs": [],
   "source": [
    "from scipy.special import gamma"
   ]
  },
  {
   "cell_type": "code",
   "execution_count": null,
   "metadata": {
    "ExecuteTime": {
     "end_time": "2018-09-21T00:34:24.277324Z",
     "start_time": "2018-09-21T00:34:24.271085Z"
    }
   },
   "outputs": [],
   "source": [
    "area_nesfera = []\n",
    "for n in range(30):\n",
    "    area_nesfera.append((np.pi ** (n/2)) / (gamma(n/2 + 1)))"
   ]
  },
  {
   "cell_type": "code",
   "execution_count": null,
   "metadata": {
    "ExecuteTime": {
     "end_time": "2018-09-21T00:34:26.568321Z",
     "start_time": "2018-09-21T00:34:26.181042Z"
    }
   },
   "outputs": [],
   "source": [
    "plt.plot(area_nesfera)\n",
    "plt.show()"
   ]
  },
  {
   "cell_type": "code",
   "execution_count": null,
   "metadata": {
    "ExecuteTime": {
     "end_time": "2018-09-21T00:35:10.598419Z",
     "start_time": "2018-09-21T00:35:10.400217Z"
    }
   },
   "outputs": [],
   "source": [
    "area_ncubo = []\n",
    "for n in range(30):\n",
    "    area_ncubo.append(2 ** n)\n",
    "    \n",
    "plt.plot(area_ncubo, 'r', label='area_cubo')\n",
    "plt.plot(area_nesfera, 'b', label='area_esfera')\n",
    "plt.ylim([0, 10])\n",
    "plt.legend()\n",
    "plt.show()"
   ]
  },
  {
   "cell_type": "markdown",
   "metadata": {},
   "source": [
    "El volumen se concentra en las esquinas."
   ]
  },
  {
   "cell_type": "markdown",
   "metadata": {},
   "source": [
    "# Regularización\n",
    "\n",
    "## Ridge\n",
    "\n",
    "Usa un costo cuadrático para los parámetros\n",
    "\n",
    "$$ \\frac{1}{n} \\sum_{i=1}^n \\left(\\theta_0 + \\sum_{j=1}^p \\theta_j x_{ij}  - y_i \\right)^2 + \\alpha \\sum_{j=0}^p \\theta_j^2$$"
   ]
  },
  {
   "cell_type": "code",
   "execution_count": null,
   "metadata": {
    "ExecuteTime": {
     "end_time": "2018-09-21T00:41:01.992667Z",
     "start_time": "2018-09-21T00:41:01.755244Z"
    }
   },
   "outputs": [],
   "source": [
    "np.random.seed(42)\n",
    "x = np.random.rand(100) * 2\n",
    "y = - 3 * x**2 + 5 * x + np.random.randn(100)\n",
    "\n",
    "plt.scatter(x, y)\n",
    "plt.show()"
   ]
  },
  {
   "cell_type": "code",
   "execution_count": null,
   "metadata": {
    "ExecuteTime": {
     "end_time": "2018-09-21T00:41:17.835701Z",
     "start_time": "2018-09-21T00:41:17.252813Z"
    }
   },
   "outputs": [],
   "source": [
    "from sklearn.linear_model import LinearRegression\n",
    "from sklearn.linear_model import Ridge"
   ]
  },
  {
   "cell_type": "code",
   "execution_count": null,
   "metadata": {
    "ExecuteTime": {
     "end_time": "2018-09-21T00:41:18.625092Z",
     "start_time": "2018-09-21T00:41:18.588791Z"
    }
   },
   "outputs": [],
   "source": [
    "X = pd.DataFrame({\n",
    "    'x': x,\n",
    "    'x_2': x ** 2,\n",
    "    'x_3': x ** 3,\n",
    "    'x_4': x ** 4,\n",
    "    'x_5': x ** 5\n",
    "})\n",
    "X.head(5)"
   ]
  },
  {
   "cell_type": "code",
   "execution_count": null,
   "metadata": {
    "ExecuteTime": {
     "end_time": "2018-09-21T00:41:39.186228Z",
     "start_time": "2018-09-21T00:41:38.896472Z"
    }
   },
   "outputs": [],
   "source": [
    "lin_reg = LinearRegression()\n",
    "\n",
    "lin_reg.fit(X, y)\n",
    "\n",
    "plt.scatter(x, y)\n",
    "plt.plot(x[np.argsort(x)], lin_reg.predict(X.iloc[np.argsort(x),:]), 'r')\n",
    "plt.show()"
   ]
  },
  {
   "cell_type": "code",
   "execution_count": null,
   "metadata": {
    "ExecuteTime": {
     "end_time": "2018-09-21T00:41:49.359406Z",
     "start_time": "2018-09-21T00:41:49.344461Z"
    }
   },
   "outputs": [],
   "source": [
    "lin_reg.coef_"
   ]
  },
  {
   "cell_type": "code",
   "execution_count": null,
   "metadata": {
    "ExecuteTime": {
     "end_time": "2018-09-21T00:42:38.584696Z",
     "start_time": "2018-09-21T00:42:38.389974Z"
    }
   },
   "outputs": [],
   "source": [
    "ridge = Ridge()\n",
    "\n",
    "ridge.fit(X, y)\n",
    "\n",
    "plt.scatter(x, y)\n",
    "plt.plot(x[np.argsort(x)], ridge.predict(X.iloc[np.argsort(x),:]), 'r')\n",
    "plt.show()"
   ]
  },
  {
   "cell_type": "code",
   "execution_count": null,
   "metadata": {
    "ExecuteTime": {
     "end_time": "2018-09-21T00:43:01.167152Z",
     "start_time": "2018-09-21T00:43:01.148815Z"
    }
   },
   "outputs": [],
   "source": [
    "ridge.coef_"
   ]
  },
  {
   "cell_type": "code",
   "execution_count": null,
   "metadata": {
    "ExecuteTime": {
     "end_time": "2018-09-21T00:43:14.401314Z",
     "start_time": "2018-09-21T00:43:14.376559Z"
    }
   },
   "outputs": [],
   "source": [
    "new_x = 0\n",
    "\n",
    "X = X.append({\n",
    "    'x': new_x,\n",
    "    'x_2': new_x ** 2,\n",
    "    'x_3': new_x ** 3,\n",
    "    'x_4': new_x ** 4,\n",
    "    'x_5': new_x ** 5\n",
    "}, ignore_index=True)"
   ]
  },
  {
   "cell_type": "code",
   "execution_count": null,
   "metadata": {
    "ExecuteTime": {
     "end_time": "2018-09-21T00:43:20.498780Z",
     "start_time": "2018-09-21T00:43:20.484437Z"
    }
   },
   "outputs": [],
   "source": [
    "y = np.append(y, [-4])\n",
    "x = np.append(x, [new_x])"
   ]
  },
  {
   "cell_type": "code",
   "execution_count": null,
   "metadata": {
    "ExecuteTime": {
     "end_time": "2018-09-21T00:43:22.148842Z",
     "start_time": "2018-09-21T00:43:21.945820Z"
    }
   },
   "outputs": [],
   "source": [
    "plt.scatter(x, y)\n",
    "plt.show()"
   ]
  },
  {
   "cell_type": "code",
   "execution_count": null,
   "metadata": {
    "ExecuteTime": {
     "end_time": "2018-09-21T00:43:57.719805Z",
     "start_time": "2018-09-21T00:43:57.492174Z"
    }
   },
   "outputs": [],
   "source": [
    "ridge.fit(X, y)\n",
    "lin_reg.fit(X, y)\n",
    "\n",
    "plt.scatter(x, y)\n",
    "plt.plot(x[np.argsort(x)], ridge.predict(X.iloc[np.argsort(x),:]), 'g', label='Ridge')\n",
    "plt.plot(x[np.argsort(x)], lin_reg.predict(X.iloc[np.argsort(x),:]), 'r', label='LinReg')\n",
    "plt.legend()\n",
    "plt.show()"
   ]
  },
  {
   "cell_type": "markdown",
   "metadata": {},
   "source": [
    "## Nuevos datos"
   ]
  },
  {
   "cell_type": "code",
   "execution_count": null,
   "metadata": {
    "ExecuteTime": {
     "end_time": "2018-09-21T00:51:03.935546Z",
     "start_time": "2018-09-21T00:51:03.770777Z"
    }
   },
   "outputs": [],
   "source": [
    "np.random.seed(10)\n",
    "x2 = np.random.rand(100) * 2 - 1\n",
    "y2 = x2 * (x2 - 3) * (x2-1) ** 2 * (x2+4) ** 3 * (x2+1) ** 4 + np.random.randn(100) *50\n",
    "\n",
    "plt.scatter(x2, y2)\n",
    "plt.show()"
   ]
  },
  {
   "cell_type": "code",
   "execution_count": null,
   "metadata": {
    "ExecuteTime": {
     "end_time": "2018-09-21T00:51:35.138688Z",
     "start_time": "2018-09-21T00:51:35.125671Z"
    }
   },
   "outputs": [],
   "source": [
    "X2 = pd.DataFrame({\n",
    "    'x': x2,\n",
    "    'x_2': x2 ** 2,\n",
    "    'x_3': x2 ** 3,\n",
    "    'x_4': x2 ** 4,\n",
    "    'x_5': x2 ** 5\n",
    "})"
   ]
  },
  {
   "cell_type": "code",
   "execution_count": null,
   "metadata": {
    "ExecuteTime": {
     "end_time": "2018-09-21T00:53:38.865331Z",
     "start_time": "2018-09-21T00:53:38.192555Z"
    }
   },
   "outputs": [],
   "source": [
    "for a in [0, 5, 10, 20]:\n",
    "    ridge_a = Ridge(alpha=a)\n",
    "    ridge_a.fit(X2, y2)\n",
    "    plt.scatter(x2, y2)\n",
    "    plt.plot(x2[np.argsort(x2)], ridge_a.predict(X2.iloc[np.argsort(x2),:]), 'g')\n",
    "    plt.title('alpha = ' + str(a))\n",
    "    plt.show()"
   ]
  },
  {
   "cell_type": "code",
   "execution_count": null,
   "metadata": {
    "ExecuteTime": {
     "end_time": "2018-09-21T00:54:29.536856Z",
     "start_time": "2018-09-21T00:54:29.504510Z"
    }
   },
   "outputs": [],
   "source": [
    "coefs = []\n",
    "\n",
    "for a in range(20):\n",
    "    ridge_a = Ridge(alpha=a)\n",
    "    ridge_a.fit(X2, y2)\n",
    "    coefs.append(ridge_a.coef_)"
   ]
  },
  {
   "cell_type": "code",
   "execution_count": null,
   "metadata": {
    "ExecuteTime": {
     "end_time": "2018-09-21T00:54:32.439905Z",
     "start_time": "2018-09-21T00:54:32.061635Z"
    }
   },
   "outputs": [],
   "source": [
    "pd.DataFrame(coefs, columns=X2.columns).plot()\n",
    "plt.show()"
   ]
  },
  {
   "cell_type": "markdown",
   "metadata": {},
   "source": [
    "## Lasso\n",
    "\n",
    "Usa un costo absoluto (L1) para los parámetros\n",
    "\n",
    "$$ \\frac{1}{n} \\sum_{i=1}^n \\left(\\theta_0 + \\sum_{j=1}^p \\theta_j x_{ij}  - y_i \\right)^2 + \\alpha \\sum_{j=0}^p |\\theta_j|$$"
   ]
  },
  {
   "cell_type": "code",
   "execution_count": null,
   "metadata": {
    "ExecuteTime": {
     "end_time": "2018-09-21T00:58:05.640597Z",
     "start_time": "2018-09-21T00:58:05.626245Z"
    }
   },
   "outputs": [],
   "source": [
    "from sklearn.linear_model import Lasso"
   ]
  },
  {
   "cell_type": "code",
   "execution_count": null,
   "metadata": {
    "ExecuteTime": {
     "end_time": "2018-09-21T00:58:09.387723Z",
     "start_time": "2018-09-21T00:58:08.691810Z"
    }
   },
   "outputs": [],
   "source": [
    "for a in [1, 3, 5, 10]:\n",
    "    lasso_a = Lasso(alpha=a)\n",
    "    lasso_a.fit(X2, y2)\n",
    "    plt.scatter(x2, y2)\n",
    "    plt.plot(x2[np.argsort(x2)], lasso_a.predict(X2.iloc[np.argsort(x2),:]), 'g')\n",
    "    plt.title('alpha = ' + str(a))\n",
    "    plt.show()"
   ]
  },
  {
   "cell_type": "code",
   "execution_count": null,
   "metadata": {
    "ExecuteTime": {
     "end_time": "2018-09-21T00:58:40.638305Z",
     "start_time": "2018-09-21T00:58:40.388103Z"
    }
   },
   "outputs": [],
   "source": [
    "coefs_lasso = []\n",
    "\n",
    "for a in range(1, 30):\n",
    "    lasso_a = Lasso(alpha=a)\n",
    "    lasso_a.fit(X2, y2)\n",
    "    coefs_lasso.append(lasso_a.coef_)\n",
    "    \n",
    "pd.DataFrame(coefs_lasso, columns=X2.columns).plot()\n",
    "plt.show()"
   ]
  },
  {
   "cell_type": "code",
   "execution_count": null,
   "metadata": {
    "ExecuteTime": {
     "end_time": "2018-09-21T00:58:55.585530Z",
     "start_time": "2018-09-21T00:58:55.555057Z"
    }
   },
   "outputs": [],
   "source": [
    "pd.DataFrame(coefs_lasso).head(10)"
   ]
  }
 ],
 "metadata": {
  "kernelspec": {
   "display_name": "Python 3",
   "language": "python",
   "name": "python3"
  },
  "language_info": {
   "codemirror_mode": {
    "name": "ipython",
    "version": 3
   },
   "file_extension": ".py",
   "mimetype": "text/x-python",
   "name": "python",
   "nbconvert_exporter": "python",
   "pygments_lexer": "ipython3",
   "version": "3.6.0"
  },
  "toc": {
   "colors": {
    "hover_highlight": "#DAA520",
    "running_highlight": "#FF0000",
    "selected_highlight": "#FFD700"
   },
   "moveMenuLeft": true,
   "nav_menu": {
    "height": "103px",
    "width": "252px"
   },
   "navigate_menu": true,
   "number_sections": true,
   "sideBar": true,
   "threshold": 4,
   "toc_cell": false,
   "toc_section_display": "block",
   "toc_window_display": false,
   "widenNotebook": false
  }
 },
 "nbformat": 4,
 "nbformat_minor": 2
}
