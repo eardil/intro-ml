{
 "cells": [
  {
   "cell_type": "markdown",
   "metadata": {},
   "source": [
    "## Medidas de impureza"
   ]
  },
  {
   "cell_type": "code",
   "execution_count": null,
   "metadata": {
    "ExecuteTime": {
     "end_time": "2018-09-11T20:31:04.298328Z",
     "start_time": "2018-09-11T20:31:04.166228Z"
    }
   },
   "outputs": [],
   "source": [
    "import matplotlib.pyplot as plt\n",
    "import numpy as np\n",
    "import pandas as pd"
   ]
  },
  {
   "cell_type": "markdown",
   "metadata": {},
   "source": [
    "$$ Gini = 1 - \\sum_i p_i ^ 2  $$"
   ]
  },
  {
   "cell_type": "code",
   "execution_count": null,
   "metadata": {},
   "outputs": [],
   "source": [
    "def gini(p):\n",
    "   return (p)*(1 - (p)) + (1 - p)*(1 - (1-p))"
   ]
  },
  {
   "cell_type": "markdown",
   "metadata": {},
   "source": [
    "$$ Entropia = - \\sum_i p_i log_2 (p_i) $$"
   ]
  },
  {
   "cell_type": "code",
   "execution_count": null,
   "metadata": {},
   "outputs": [],
   "source": [
    "def entropy(p):\n",
    "   return - p*np.log2(p) - (1 - p)*np.log2((1 - p))"
   ]
  },
  {
   "cell_type": "markdown",
   "metadata": {},
   "source": [
    "$$ ErrorClasif = 1 - max (p_i) $$"
   ]
  },
  {
   "cell_type": "code",
   "execution_count": null,
   "metadata": {},
   "outputs": [],
   "source": [
    "def classification_error(p):\n",
    "   return 1 - np.max([p, 1 - p])"
   ]
  },
  {
   "cell_type": "code",
   "execution_count": null,
   "metadata": {
    "ExecuteTime": {
     "end_time": "2018-09-11T14:44:53.449273Z",
     "start_time": "2018-09-11T14:44:53.283984Z"
    }
   },
   "outputs": [],
   "source": [
    "x = np.arange(0.0, 1.0, 0.01)\n",
    "ent = [entropy(p) if p != 0 else None for p in x]\n",
    "scaled_ent = [e*0.5 if e else None for e in ent]\n",
    "c_err = [classification_error(i) for i in x]\n",
    "\n",
    "fig = plt.figure()\n",
    "ax = plt.subplot(111)\n",
    "\n",
    "for j, lab, ls, c, in zip(\n",
    "      [ent, scaled_ent, gini(x), c_err],\n",
    "      ['Entropy', 'Entropy (scaled)', 'Gini Impurity', 'Misclassification Error'],\n",
    "      ['-', '-', '--', '-.'],\n",
    "      ['lightgray', 'red', 'green', 'blue']):\n",
    "   line = ax.plot(x, j, label=lab, linestyle=ls, lw=1, color=c)\n",
    "\n",
    "ax.legend(loc='upper left', bbox_to_anchor=(0.01, 0.85),\n",
    "         ncol=1, fancybox=True, shadow=False)\n",
    "\n",
    "ax.axhline(y=0.5, linewidth=1, color='k', linestyle='--')\n",
    "ax.axhline(y=1.0, linewidth=1, color='k', linestyle='--')\n",
    "\n",
    "plt.ylim([0, 1.1])\n",
    "plt.xlabel('p(j=1)')\n",
    "plt.ylabel('Impurity Index')\n",
    "plt.show()"
   ]
  },
  {
   "cell_type": "markdown",
   "metadata": {},
   "source": [
    "## Árbol de decisión\n",
    "\n",
    "Datos: [Marketing Bancario](https://archive.ics.uci.edu/ml/datasets/bank+marketing)"
   ]
  },
  {
   "cell_type": "code",
   "execution_count": null,
   "metadata": {},
   "outputs": [],
   "source": [
    "bank = pd.read_csv('datos/bank-full.csv', sep=';')\n",
    "bank.head()"
   ]
  },
  {
   "cell_type": "code",
   "execution_count": null,
   "metadata": {
    "ExecuteTime": {
     "end_time": "2018-09-11T20:57:26.017209Z",
     "start_time": "2018-09-11T20:57:25.628748Z"
    }
   },
   "outputs": [],
   "source": [
    "bank = bank.replace('yes', 1).replace('no', 0)\n",
    "\n",
    "months = pd.DataFrame({\n",
    "    'month': bank.month.sort_values().unique(),\n",
    "    'month_no': [4, 8, 12, 2, 1, 7, 6, 3, 5, 11, 10, 9]\n",
    "})\n",
    "bank = bank.merge(months).drop('month', axis=1)\n",
    "\n",
    "bank = bank.merge(pd.DataFrame({\n",
    "    'education': bank.education.unique(),\n",
    "    'edu': [1, 2, 3, np.nan]\n",
    "})).drop('education', axis=1)\n",
    "\n",
    "bank = bank.merge(pd.DataFrame({\n",
    "    'poutcome': bank.poutcome.sort_values().unique(),\n",
    "    'prev_out': [-1, np.nan, 1, 0]\n",
    "})).drop('poutcome', axis=1)\n",
    "\n",
    "bank = bank.drop('job', axis=1)\n",
    "\n",
    "bank_dummies = pd.get_dummies(bank)\n",
    "bank_dummies.sample(10)\n",
    "\n",
    "bank_dummies = bank_dummies.dropna()"
   ]
  },
  {
   "cell_type": "code",
   "execution_count": null,
   "metadata": {
    "ExecuteTime": {
     "end_time": "2018-09-11T20:57:26.021780Z",
     "start_time": "2018-09-11T20:57:26.018716Z"
    }
   },
   "outputs": [],
   "source": [
    "from sklearn.model_selection import train_test_split\n",
    "from sklearn.tree import DecisionTreeClassifier, export_graphviz\n",
    "import graphviz \n",
    "from sklearn.metrics import confusion_matrix"
   ]
  },
  {
   "cell_type": "code",
   "execution_count": null,
   "metadata": {
    "ExecuteTime": {
     "end_time": "2018-09-11T20:57:26.082437Z",
     "start_time": "2018-09-11T20:57:26.023531Z"
    }
   },
   "outputs": [],
   "source": [
    "arbol = DecisionTreeClassifier(max_depth=2)\n",
    "\n",
    "X_train, X_test, y_train, y_test = train_test_split(\n",
    "    bank_dummies.drop('y', axis=1), # X\n",
    "    bank_dummies.y,  # y\n",
    "    test_size=0.2, # porcentaje que será prueba\n",
    "    random_state=42) # para fijar el aleatorio (reproducibilidad)"
   ]
  },
  {
   "cell_type": "code",
   "execution_count": null,
   "metadata": {
    "ExecuteTime": {
     "end_time": "2018-09-11T20:57:26.154205Z",
     "start_time": "2018-09-11T20:57:26.084862Z"
    }
   },
   "outputs": [],
   "source": [
    "arbol_ent = arbol.fit(X_train, y_train)"
   ]
  },
  {
   "cell_type": "code",
   "execution_count": null,
   "metadata": {
    "ExecuteTime": {
     "end_time": "2018-09-11T20:57:26.190172Z",
     "start_time": "2018-09-11T20:57:26.156415Z"
    }
   },
   "outputs": [],
   "source": [
    "confusion_matrix(y_test, arbol_ent.predict(X_test))"
   ]
  },
  {
   "cell_type": "code",
   "execution_count": null,
   "metadata": {
    "ExecuteTime": {
     "end_time": "2018-09-11T20:57:26.243564Z",
     "start_time": "2018-09-11T20:57:26.194872Z"
    }
   },
   "outputs": [],
   "source": [
    "graf = export_graphviz(arbol_ent, out_file=None, \n",
    "             feature_names=X_train.columns,   \n",
    "             filled=True, rounded=True,  \n",
    "             special_characters=True) \n",
    "\n",
    "graph = graphviz.Source(graf)\n",
    "graph"
   ]
  },
  {
   "cell_type": "code",
   "execution_count": null,
   "metadata": {
    "ExecuteTime": {
     "end_time": "2018-09-11T20:57:26.261480Z",
     "start_time": "2018-09-11T20:57:26.248319Z"
    }
   },
   "outputs": [],
   "source": [
    "print(\"Score entrenamiento:\", arbol_ent.score(X_train, y_train))\n",
    "print(\"Score prueba:\", arbol_ent.score(X_test, y_test))"
   ]
  },
  {
   "cell_type": "code",
   "execution_count": null,
   "metadata": {
    "ExecuteTime": {
     "end_time": "2018-09-11T20:57:57.015748Z",
     "start_time": "2018-09-11T20:57:53.262315Z"
    }
   },
   "outputs": [],
   "source": [
    "score_ent = []\n",
    "score_pru = []\n",
    "\n",
    "for i in range(3, 30):\n",
    "    arbol = DecisionTreeClassifier(max_depth=i)\n",
    "    arbol_ent = arbol.fit(X_train, y_train)\n",
    "    print(\"Score entrenamiento:\", arbol_ent.score(X_train, y_train))\n",
    "    print(\"Score prueba:\", arbol_ent.score(X_test, y_test))\n",
    "    score_ent.append(arbol_ent.score(X_train, y_train))\n",
    "    score_pru.append(arbol_ent.score(X_test, y_test))"
   ]
  },
  {
   "cell_type": "code",
   "execution_count": null,
   "metadata": {
    "ExecuteTime": {
     "end_time": "2018-09-11T20:58:02.130570Z",
     "start_time": "2018-09-11T20:58:01.994198Z"
    }
   },
   "outputs": [],
   "source": [
    "pd.DataFrame({\n",
    "    'score_ent': score_ent,\n",
    "    'score_pru': score_pru\n",
    "}, index=range(3, 30)).plot()\n",
    "plt.show()"
   ]
  },
  {
   "cell_type": "markdown",
   "metadata": {},
   "source": [
    "## Bagging"
   ]
  },
  {
   "cell_type": "code",
   "execution_count": null,
   "metadata": {
    "ExecuteTime": {
     "end_time": "2018-09-11T22:23:55.517089Z",
     "start_time": "2018-09-11T22:23:06.467629Z"
    },
    "scrolled": false
   },
   "outputs": [],
   "source": [
    "from sklearn.tree import DecisionTreeClassifier\n",
    "from sklearn.ensemble import BaggingClassifier\n",
    "\n",
    "\n",
    "score_ent = []\n",
    "score_pru = []\n",
    "\n",
    "for i in range(3, 30):\n",
    "    tree = DecisionTreeClassifier(max_depth=i)\n",
    "    bag = BaggingClassifier(tree, n_estimators=30, n_jobs=-1)\n",
    "    bag_ent = bag.fit(X_train, y_train)\n",
    "    print(\"Score entrenamiento:\", bag_ent.score(X_train, y_train))\n",
    "    print(\"Score prueba:\", bag_ent.score(X_test, y_test),'\\n')\n",
    "    score_ent.append(bag_ent.score(X_train, y_train))\n",
    "    score_pru.append(bag_ent.score(X_test, y_test))\n"
   ]
  },
  {
   "cell_type": "code",
   "execution_count": null,
   "metadata": {
    "ExecuteTime": {
     "end_time": "2018-09-11T21:31:38.329517Z",
     "start_time": "2018-09-11T21:31:38.219829Z"
    }
   },
   "outputs": [],
   "source": [
    "pd.DataFrame({\n",
    "    'score_ent': score_ent,\n",
    "    'score_pru': score_pru\n",
    "}, index=range(3, 30)).plot()\n",
    "plt.show()"
   ]
  },
  {
   "cell_type": "code",
   "execution_count": null,
   "metadata": {
    "ExecuteTime": {
     "end_time": "2018-09-11T22:21:52.088358Z",
     "start_time": "2018-09-11T22:21:16.441241Z"
    }
   },
   "outputs": [],
   "source": [
    "tree = DecisionTreeClassifier()\n",
    "bag = BaggingClassifier(tree, n_estimators=200, n_jobs=-1)\n",
    "\n",
    "bag.fit(X_train, y_train)\n",
    "bag_ent = bag.fit(X_train, y_train)\n",
    "print(\"Score entrenamiento:\", bag_ent.score(X_train, y_train))\n",
    "print(\"Score prueba:\", bag_ent.score(X_test, y_test))"
   ]
  }
 ],
 "metadata": {
  "kernelspec": {
   "display_name": "Python 3",
   "language": "python",
   "name": "python3"
  },
  "language_info": {
   "codemirror_mode": {
    "name": "ipython",
    "version": 3
   },
   "file_extension": ".py",
   "mimetype": "text/x-python",
   "name": "python",
   "nbconvert_exporter": "python",
   "pygments_lexer": "ipython3",
   "version": "3.6.0"
  }
 },
 "nbformat": 4,
 "nbformat_minor": 2
}
