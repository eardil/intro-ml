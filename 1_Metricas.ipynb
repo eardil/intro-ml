{
 "cells": [
  {
   "cell_type": "code",
   "execution_count": null,
   "metadata": {
    "ExecuteTime": {
     "end_time": "2018-08-29T21:36:03.419723Z",
     "start_time": "2018-08-29T21:36:01.697926Z"
    }
   },
   "outputs": [],
   "source": [
    "import matplotlib.pyplot as plt\n",
    "import seaborn as sns\n",
    "import pandas as pd\n",
    "import numpy as np"
   ]
  },
  {
   "cell_type": "markdown",
   "metadata": {},
   "source": [
    "## Clasificación"
   ]
  },
  {
   "cell_type": "code",
   "execution_count": null,
   "metadata": {
    "ExecuteTime": {
     "end_time": "2018-08-29T18:22:54.990312Z",
     "start_time": "2018-08-29T18:22:54.883240Z"
    },
    "scrolled": true
   },
   "outputs": [],
   "source": [
    "np.random.seed(7)\n",
    "datos = pd.DataFrame({\n",
    "    'x1': np.random.normal(0, 3, size=50),\n",
    "    'x2': np.random.normal(size=50)\n",
    "}).assign(clase=lambda x: (x.x1 - x.x2 * 2).apply(lambda y: 1*(y + np.random.normal(0,2) < 0)))\n",
    "\n",
    "plt.plot(datos[datos.clase == 0].x1, datos[datos.clase == 0].x2, 'rx')\n",
    "plt.plot(datos[datos.clase == 1].x1, datos[datos.clase == 1].x2, 'bo')\n",
    "plt.show()"
   ]
  },
  {
   "cell_type": "code",
   "execution_count": null,
   "metadata": {
    "ExecuteTime": {
     "end_time": "2018-08-29T18:21:49.944511Z",
     "start_time": "2018-08-29T18:21:49.940152Z"
    }
   },
   "outputs": [],
   "source": [
    "datos.clase.mean()"
   ]
  },
  {
   "cell_type": "markdown",
   "metadata": {},
   "source": [
    "ecuación de la línea $y=mx + b$"
   ]
  },
  {
   "cell_type": "code",
   "execution_count": null,
   "metadata": {
    "ExecuteTime": {
     "end_time": "2018-08-29T22:33:11.095912Z",
     "start_time": "2018-08-29T22:33:11.087680Z"
    }
   },
   "outputs": [],
   "source": [
    "m = 1/2\n",
    "b = 0"
   ]
  },
  {
   "cell_type": "code",
   "execution_count": null,
   "metadata": {
    "ExecuteTime": {
     "end_time": "2018-08-29T21:01:46.320404Z",
     "start_time": "2018-08-29T21:01:46.184685Z"
    }
   },
   "outputs": [],
   "source": [
    "plt.plot(datos[datos.clase == 0].x1, datos[datos.clase == 0].x2, 'rx')\n",
    "plt.plot(datos[datos.clase == 1].x1, datos[datos.clase == 1].x2, 'bo')\n",
    "plt.plot(datos.x1.sort_values(), datos.x1.sort_values() * m + b)\n",
    "plt.xlim([datos.x1.min() - 0.1, datos.x1.max() + 0.1])\n",
    "plt.ylim([datos.x2.min() - 0.1, datos.x2.max() + 0.1])"
   ]
  },
  {
   "cell_type": "code",
   "execution_count": null,
   "metadata": {
    "ExecuteTime": {
     "end_time": "2018-08-29T22:34:59.984830Z",
     "start_time": "2018-08-29T22:34:59.972252Z"
    }
   },
   "outputs": [],
   "source": [
    "datos = datos.assign(pred=lambda x: 1 * (x.x2 > m * x.x1 + b))\n",
    "datos.head(10)"
   ]
  },
  {
   "cell_type": "code",
   "execution_count": null,
   "metadata": {
    "ExecuteTime": {
     "end_time": "2018-08-29T22:35:02.381421Z",
     "start_time": "2018-08-29T22:35:02.369205Z"
    }
   },
   "outputs": [],
   "source": [
    "(\n",
    "    datos\n",
    "    .groupby(['clase', 'pred'])['x1']\n",
    "    .count()\n",
    "    .reset_index()\n",
    "    .pivot(index='clase', columns='pred', values='x1')\n",
    ")"
   ]
  },
  {
   "cell_type": "code",
   "execution_count": null,
   "metadata": {
    "ExecuteTime": {
     "end_time": "2018-08-29T22:35:06.987405Z",
     "start_time": "2018-08-29T22:35:06.975890Z"
    }
   },
   "outputs": [],
   "source": [
    "(\n",
    "    datos\n",
    "    .groupby(['clase', 'pred'])['x1']\n",
    "    .count()\n",
    "    .reset_index()\n",
    "    .assign(porc = lambda x: x.x1 / x.x1.sum())\n",
    ")"
   ]
  },
  {
   "cell_type": "code",
   "execution_count": null,
   "metadata": {
    "ExecuteTime": {
     "end_time": "2018-08-29T22:36:58.039177Z",
     "start_time": "2018-08-29T22:36:58.029583Z"
    }
   },
   "outputs": [],
   "source": [
    "(\n",
    "    datos\n",
    "    .groupby(['clase', 'pred'])\n",
    "    .count()\n",
    "    .reset_index()\n",
    "    .assign(porc = lambda x: x.x1 / x.x1.sum())\n",
    "    .query('clase != pred').porc.sum()\n",
    ")"
   ]
  },
  {
   "cell_type": "code",
   "execution_count": null,
   "metadata": {
    "ExecuteTime": {
     "end_time": "2018-08-29T22:37:20.988678Z",
     "start_time": "2018-08-29T22:37:20.981828Z"
    }
   },
   "outputs": [],
   "source": [
    "def califica_clasif(datos, m, b):\n",
    "    datos = datos.assign(pred=lambda x: 1 * (x.x2 > m * x.x1 + b))\n",
    "    return (\n",
    "        datos\n",
    "        .groupby(['clase', 'pred'])\n",
    "        .count()\n",
    "        .reset_index()\n",
    "        .assign(porc = lambda x: x.x1 / x.x1.sum())\n",
    "        .query('clase != pred').porc.sum()\n",
    "    )"
   ]
  },
  {
   "cell_type": "code",
   "execution_count": null,
   "metadata": {
    "ExecuteTime": {
     "end_time": "2018-08-29T22:41:50.429981Z",
     "start_time": "2018-08-29T22:41:39.840447Z"
    }
   },
   "outputs": [],
   "source": [
    "puntos = 50\n",
    "mesh = np.array(np.meshgrid(np.linspace(-0.5, 2, puntos), np.linspace(datos.x2.min(), datos.x2.max(), puntos)))\n",
    "\n",
    "espacio_parametral = pd.DataFrame({\n",
    "    'm': mesh[0].reshape([puntos * puntos,]),\n",
    "    'b': mesh[1].reshape([puntos * puntos,])\n",
    "}).assign(perdida = lambda D: D.apply(lambda H: califica_clasif(datos, H.m, H.b), axis=1))\n",
    "sns.heatmap(espacio_parametral.pivot(index='b', columns='m', values='perdida'))"
   ]
  },
  {
   "cell_type": "code",
   "execution_count": null,
   "metadata": {
    "ExecuteTime": {
     "end_time": "2018-08-29T22:41:10.535795Z",
     "start_time": "2018-08-29T22:41:10.414033Z"
    }
   },
   "outputs": [],
   "source": [
    "optimos_c = {'m': espacio_parametral.sort_values(by='perdida').m.iloc[0],\n",
    "          'b': espacio_parametral.sort_values(by='perdida').b.iloc[0]}\n",
    "\n",
    "plt.plot(datos[datos.clase == 0].x1, datos[datos.clase == 0].x2, 'rx')\n",
    "plt.plot(datos[datos.clase == 1].x1, datos[datos.clase == 1].x2, 'bo')\n",
    "plt.plot(datos.x1.sort_values(), datos.x1.sort_values() * optimos_c['m'] + optimos_c['b'])\n",
    "plt.xlim([datos.x1.min() - 0.1, datos.x1.max() + 0.1])\n",
    "plt.ylim([datos.x2.min() - 0.1, datos.x2.max() + 0.1])\n",
    "print(optimos_c)\n",
    "plt.show()"
   ]
  },
  {
   "cell_type": "markdown",
   "metadata": {},
   "source": [
    "### Precision-Recall\n",
    "\n",
    "$$ precision = \\frac{TP}{TP + FP} $$\n",
    "\n",
    "$$ recall = \\frac{TP}{TP + FN} $$\n",
    "\n",
    "$$ f1score = \\frac{precision \\times recall}{precision + recall} $$"
   ]
  },
  {
   "cell_type": "code",
   "execution_count": null,
   "metadata": {},
   "outputs": [],
   "source": [
    "m = - 0.2\n",
    "b = 4.5\n",
    "\n",
    "datos_aux = datos.assign(pred=lambda x: 1 * (x.x2 > m * x.x1 + b)).copy()\n",
    "aux = (\n",
    "    datos_aux\n",
    "    .groupby(['clase', 'pred'])\n",
    "    .count()\n",
    "    .reset_index()\n",
    "    .assign(porc = lambda x: x.x1 / x.x1.sum())\n",
    ")\n",
    "\n",
    "df = pd.DataFrame({'clase': [1,1,0,0], 'pred': [0,1,0,1]}).merge(aux, how='left').fillna(0)\n",
    "\n",
    "TP = df[(df.clase == 1) & (df.pred == 1)].porc.values[0]\n",
    "TN = df[(df.clase == 0) & (df.pred == 0)].porc.values[0]\n",
    "FP = df[(df.clase == 0) & (df.pred == 1)].porc.values[0]\n",
    "FN = df[(df.clase == 1) & (df.pred == 0)].porc.values[0]\n",
    "\n",
    "precision = TP / (TP + FP)\n",
    "recall = TP / (TP + FN)\n",
    "\n",
    "print(TP, TN, FP, FN)"
   ]
  },
  {
   "cell_type": "code",
   "execution_count": null,
   "metadata": {},
   "outputs": [],
   "source": [
    "def f1_score(datos, m, b):\n",
    "    datos_aux = datos.assign(pred=lambda x: 1 * (x.x2 > m * x.x1 + b)).copy()\n",
    "    aux = (\n",
    "        datos_aux\n",
    "        .groupby(['clase', 'pred'])\n",
    "        .count()\n",
    "        .reset_index()\n",
    "        .assign(porc = lambda x: x.x1 / x.x1.sum())\n",
    "    )\n",
    "    \n",
    "    df = pd.DataFrame({'clase': [1,1,0,0], 'pred': [0,1,0,1]}).merge(aux, how='left').fillna(0)\n",
    "    \n",
    "    TP = df[(df.clase == 1) & (df.pred == 1)].porc.values[0]\n",
    "    TN = df[(df.clase == 0) & (df.pred == 0)].porc.values[0]\n",
    "    FP = df[(df.clase == 0) & (df.pred == 1)].porc.values[0]\n",
    "    FN = df[(df.clase == 1) & (df.pred == 0)].porc.values[0]\n",
    "\n",
    "    precision = TP / (TP + FP)\n",
    "    recall = TP / (TP + FN)\n",
    "\n",
    "    return precision * recall / (precision + recall)"
   ]
  },
  {
   "cell_type": "code",
   "execution_count": null,
   "metadata": {},
   "outputs": [],
   "source": [
    "puntos = 50\n",
    "mesh = np.array(np.meshgrid(np.linspace(-0.5, 2, puntos), np.linspace(datos.x2.min(), datos.x2.max(), puntos)))\n",
    "\n",
    "espacio_parametral = pd.DataFrame({\n",
    "    'm': mesh[0].reshape([puntos * puntos,]),\n",
    "    'b': mesh[1].reshape([puntos * puntos,])\n",
    "}).assign(perdida = lambda D: D.apply(lambda H: f1_score(datos, H.m, H.b), axis=1))\n",
    "sns.heatmap(espacio_parametral.pivot(index='b', columns='m', values='perdida'))"
   ]
  },
  {
   "cell_type": "code",
   "execution_count": null,
   "metadata": {},
   "outputs": [],
   "source": [
    "optimos_c = {'m': espacio_parametral.sort_values(by='perdida', ascending=False).m.iloc[0],\n",
    "          'b': espacio_parametral.sort_values(by='perdida', ascending=False).b.iloc[0],\n",
    "            'perdida': espacio_parametral.sort_values(by='perdida', ascending=False).perdida.iloc[0]}\n",
    "\n",
    "plt.plot(datos[datos.clase == 0].x1, datos[datos.clase == 0].x2, 'rx')\n",
    "plt.plot(datos[datos.clase == 1].x1, datos[datos.clase == 1].x2, 'bo')\n",
    "plt.plot(datos.x1.sort_values(), datos.x1.sort_values() * optimos_c['m'] + optimos_c['b'])\n",
    "plt.xlim([datos.x1.min() - 0.1, datos.x1.max() + 0.1])\n",
    "plt.ylim([datos.x2.min() - 0.1, datos.x2.max() + 0.1])\n",
    "print(optimos_c)\n",
    "plt.show()"
   ]
  },
  {
   "cell_type": "markdown",
   "metadata": {},
   "source": [
    "## Regresión"
   ]
  },
  {
   "cell_type": "code",
   "execution_count": null,
   "metadata": {
    "ExecuteTime": {
     "end_time": "2018-08-29T22:14:19.125418Z",
     "start_time": "2018-08-29T22:14:19.001158Z"
    }
   },
   "outputs": [],
   "source": [
    "plt.plot(datos.x1, datos.x2, 'rx')\n",
    "plt.plot(datos.x1, datos.x2, 'bo')"
   ]
  },
  {
   "cell_type": "code",
   "execution_count": null,
   "metadata": {
    "ExecuteTime": {
     "end_time": "2018-08-29T21:45:22.015331Z",
     "start_time": "2018-08-29T21:45:21.985810Z"
    }
   },
   "outputs": [],
   "source": [
    "def distancia_linea(x, m, b):\n",
    "    return abs(b + m * x[0] - x[1])\n",
    "\n",
    "def perdida_superficie(m, b):\n",
    "    dist = np.zeros([x_1.shape[0], x_2.shape[0]])\n",
    "\n",
    "    for i in range(dist.shape[0]):\n",
    "        for j in range(dist.shape[1]):\n",
    "            dist[i, j] = distancia_linea([x_1[i], x_2[j]], m, b)\n",
    "    \n",
    "    plt.imshow(np.flip(dist, axis=0))"
   ]
  },
  {
   "cell_type": "code",
   "execution_count": null,
   "metadata": {
    "ExecuteTime": {
     "end_time": "2018-08-29T21:29:51.642420Z",
     "start_time": "2018-08-29T21:29:49.467243Z"
    }
   },
   "outputs": [],
   "source": [
    "x_1 = np.linspace(datos.x1.min(), datos.x1.max(), 1000)\n",
    "x_2 = np.linspace(datos.x2.min(), datos.x2.max(), 1000)\n",
    "\n",
    "perdida_superficie(-4, 1)"
   ]
  },
  {
   "cell_type": "code",
   "execution_count": null,
   "metadata": {
    "ExecuteTime": {
     "end_time": "2018-08-29T21:57:39.313097Z",
     "start_time": "2018-08-29T21:57:39.304959Z"
    }
   },
   "outputs": [],
   "source": [
    "def sum_perdida(datos, m, b):\n",
    "    return datos.apply(lambda x: distancia_linea([x.x1, x.x2], m, b), axis=1).sum()"
   ]
  },
  {
   "cell_type": "code",
   "execution_count": null,
   "metadata": {
    "ExecuteTime": {
     "end_time": "2018-08-29T22:09:45.095665Z",
     "start_time": "2018-08-29T22:09:45.084738Z"
    }
   },
   "outputs": [],
   "source": [
    "puntos = 50\n",
    "\n",
    "mesh = np.array(np.meshgrid(np.linspace(-1.5, 1.5, puntos), np.linspace(datos.x2.min(), datos.x2.max(), puntos)))"
   ]
  },
  {
   "cell_type": "code",
   "execution_count": null,
   "metadata": {
    "ExecuteTime": {
     "end_time": "2018-08-29T22:09:51.547980Z",
     "start_time": "2018-08-29T22:09:46.930241Z"
    }
   },
   "outputs": [],
   "source": [
    "espacio_parametral = pd.DataFrame({\n",
    "    'm': mesh[0].reshape([puntos * puntos,]),\n",
    "    'b': mesh[1].reshape([puntos * puntos,])\n",
    "}).assign(perdida = lambda D: D.apply(lambda H: sum_perdida(datos, H.m, H.b), axis=1))\n",
    "sns.heatmap(espacio_parametral.pivot(index='b', columns='m', values='perdida'))"
   ]
  },
  {
   "cell_type": "code",
   "execution_count": null,
   "metadata": {
    "ExecuteTime": {
     "end_time": "2018-08-29T22:10:43.929399Z",
     "start_time": "2018-08-29T22:10:43.903678Z"
    }
   },
   "outputs": [],
   "source": [
    "espacio_parametral.sort_values(by='perdida').head()"
   ]
  },
  {
   "cell_type": "code",
   "execution_count": null,
   "metadata": {
    "ExecuteTime": {
     "end_time": "2018-08-29T22:14:00.078332Z",
     "start_time": "2018-08-29T22:13:59.921482Z"
    }
   },
   "outputs": [],
   "source": [
    "optimos_r = {'m': espacio_parametral.sort_values(by='perdida').m.iloc[0],\n",
    "          'b': espacio_parametral.sort_values(by='perdida').b.iloc[0]}\n",
    "\n",
    "plt.plot(datos.x1, datos.x2, 'rx')\n",
    "plt.plot(datos.x1, datos.x2, 'bo')\n",
    "plt.plot(datos.x1.sort_values(), datos.x1.sort_values() * optimos_r['m'] + optimos_r['b'])\n",
    "plt.xlim([datos.x1.min() - 0.1, datos.x1.max() + 0.1])\n",
    "plt.ylim([datos.x2.min() - 0.1, datos.x2.max() + 0.1])"
   ]
  },
  {
   "cell_type": "markdown",
   "metadata": {},
   "source": [
    "## Curva ROC"
   ]
  },
  {
   "cell_type": "markdown",
   "metadata": {},
   "source": [
    "* Eje x: 1 – especificidad (= porcentaje de falsos positivos = FP/(FP+TN))\n",
    "* Eje y: sensibilidad (= porcentaje de verdaderos positivos = TP/(TP+FN))"
   ]
  },
  {
   "cell_type": "code",
   "execution_count": null,
   "metadata": {},
   "outputs": [],
   "source": [
    "from sklearn.linear_model import LogisticRegression"
   ]
  },
  {
   "cell_type": "code",
   "execution_count": null,
   "metadata": {},
   "outputs": [],
   "source": [
    "datos.head()"
   ]
  },
  {
   "cell_type": "code",
   "execution_count": null,
   "metadata": {},
   "outputs": [],
   "source": [
    "lr = LogisticRegression()\n",
    "\n",
    "lr_fitted = lr.fit(datos[['x1', 'x2']], datos.clase)"
   ]
  },
  {
   "cell_type": "code",
   "execution_count": null,
   "metadata": {},
   "outputs": [],
   "source": [
    "datos['lr_proba'] = lr_fitted.predict_proba(datos[['x1', 'x2']])[:,1]"
   ]
  },
  {
   "cell_type": "code",
   "execution_count": null,
   "metadata": {},
   "outputs": [],
   "source": [
    "datos.head()"
   ]
  },
  {
   "cell_type": "code",
   "execution_count": null,
   "metadata": {},
   "outputs": [],
   "source": [
    "plt.plot(datos.sort_values(by='lr_proba', ascending=False).clase.cumsum().values)\n",
    "plt.plot([0, datos.shape[0]], [0, 31])"
   ]
  },
  {
   "cell_type": "code",
   "execution_count": null,
   "metadata": {},
   "outputs": [],
   "source": [
    "def puntos_ROC(punto_corte, variable):\n",
    "    datos_aux = datos.assign(pred=lambda x: 1 * (x[variable] > punto_corte)).copy()\n",
    "    aux = (\n",
    "        datos_aux\n",
    "        .groupby(['clase', 'pred'])\n",
    "        .count()\n",
    "        .reset_index()\n",
    "        .assign(porc = lambda x: x.x1 / x.x1.sum())\n",
    "    )\n",
    "\n",
    "    df = pd.DataFrame({'clase': [1,1,0,0], 'pred': [0,1,0,1]}).merge(aux, how='left').fillna(0)\n",
    "\n",
    "    TP = df[(df.clase == 1) & (df.pred == 1)].porc.values[0]\n",
    "    TN = df[(df.clase == 0) & (df.pred == 0)].porc.values[0]\n",
    "    FP = df[(df.clase == 0) & (df.pred == 1)].porc.values[0]\n",
    "    FN = df[(df.clase == 1) & (df.pred == 0)].porc.values[0]\n",
    "\n",
    "    x = FP/(FP+TN)\n",
    "    y = TP/(TP+FN)\n",
    "    return x, y"
   ]
  },
  {
   "cell_type": "code",
   "execution_count": null,
   "metadata": {},
   "outputs": [],
   "source": [
    "X = []\n",
    "Y = []\n",
    "pc = np.linspace(0 , 1, 100)\n",
    "\n",
    "for punto in pc:\n",
    "    x, y = puntos_ROC(punto, 'lr_proba')\n",
    "    X.append(x)\n",
    "    Y.append(y)\n",
    "    \n",
    "roc = pd.DataFrame({\n",
    "    'punto_corte': pc,\n",
    "    '1-especificidad': X,\n",
    "    'sensibilidad': Y\n",
    "})\n",
    "roc.plot(x='1-especificidad', y='sensibilidad')"
   ]
  },
  {
   "cell_type": "code",
   "execution_count": null,
   "metadata": {},
   "outputs": [],
   "source": [
    "np.random.seed(7)\n",
    "datos = pd.DataFrame({\n",
    "    'x1': np.random.normal(0, 3, size=10000),\n",
    "    'x2': np.random.normal(size=10000)\n",
    "}).assign(clase=lambda x: (x.x1 - x.x2 * 2).apply(lambda y: 1*(y + np.random.normal(0,2) < 0)))\n",
    "\n",
    "plt.plot(datos[datos.clase == 0].x1, datos[datos.clase == 0].x2, 'rx')\n",
    "plt.plot(datos[datos.clase == 1].x1, datos[datos.clase == 1].x2, 'bo')\n",
    "plt.show()"
   ]
  },
  {
   "cell_type": "code",
   "execution_count": null,
   "metadata": {},
   "outputs": [],
   "source": [
    "lr_fitted = lr.fit(datos[['x1', 'x2']], datos.clase)\n",
    "datos['lr_proba'] = lr_fitted.predict_proba(datos[['x1', 'x2']])[:,1]"
   ]
  },
  {
   "cell_type": "code",
   "execution_count": null,
   "metadata": {},
   "outputs": [],
   "source": [
    "X = []\n",
    "Y = []\n",
    "pc = np.linspace(0 , 1, 100)\n",
    "\n",
    "for punto in pc:\n",
    "    x, y = puntos_ROC(punto, 'lr_proba')\n",
    "    X.append(x)\n",
    "    Y.append(y)\n",
    "    \n",
    "roc = pd.DataFrame({\n",
    "    'punto_corte': pc,\n",
    "    '1-especificidad': X,\n",
    "    'sensibilidad': Y\n",
    "})\n",
    "roc.plot(x='1-especificidad', y='sensibilidad')\n",
    "plt.plot([0,1], [0,1])"
   ]
  },
  {
   "cell_type": "code",
   "execution_count": null,
   "metadata": {},
   "outputs": [],
   "source": [
    "from sklearn.ensemble import RandomForestClassifier\n",
    "\n",
    "rf = RandomForestClassifier(n_estimators=100, min_samples_split=15)\n",
    "rf_fitted = rf.fit(datos[['x1', 'x2']], datos.clase)"
   ]
  },
  {
   "cell_type": "code",
   "execution_count": null,
   "metadata": {},
   "outputs": [],
   "source": [
    "datos['rf_proba'] = rf_fitted.predict_proba(datos[['x1', 'x2']])[:,1]"
   ]
  },
  {
   "cell_type": "code",
   "execution_count": null,
   "metadata": {},
   "outputs": [],
   "source": [
    "for modelo in ['lr_proba', 'rf_proba']:\n",
    "    X = []\n",
    "    Y = []\n",
    "    pc = np.linspace(0 , 1, 100)\n",
    "\n",
    "    for punto in pc:\n",
    "        x, y = puntos_ROC(punto, modelo)\n",
    "        X.append(x)\n",
    "        Y.append(y)\n",
    "\n",
    "    roc = pd.DataFrame({\n",
    "        'punto_corte': pc,\n",
    "        '1-especificidad': X,\n",
    "        'sensibilidad': Y\n",
    "    })\n",
    "    plt.plot(roc['1-especificidad'], roc['sensibilidad'], label=modelo)\n",
    "plt.plot([0,1], [0,1])\n",
    "plt.legend()\n",
    "plt.show()"
   ]
  }
 ],
 "metadata": {
  "kernelspec": {
   "display_name": "Python 3",
   "language": "python",
   "name": "python3"
  },
  "language_info": {
   "codemirror_mode": {
    "name": "ipython",
    "version": 3
   },
   "file_extension": ".py",
   "mimetype": "text/x-python",
   "name": "python",
   "nbconvert_exporter": "python",
   "pygments_lexer": "ipython3",
   "version": "3.6.0"
  }
 },
 "nbformat": 4,
 "nbformat_minor": 2
}
